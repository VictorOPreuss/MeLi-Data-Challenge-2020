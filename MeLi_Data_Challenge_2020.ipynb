{
  "nbformat": 4,
  "nbformat_minor": 0,
  "metadata": {
    "colab": {
      "name": "MeLi Data Challenge 2020",
      "provenance": [],
      "collapsed_sections": [],
      "authorship_tag": "ABX9TyPqKW6DWnUGeQVt4CKqjbAg",
      "include_colab_link": true
    },
    "kernelspec": {
      "name": "python3",
      "display_name": "Python 3"
    }
  },
  "cells": [
    {
      "cell_type": "markdown",
      "metadata": {
        "id": "view-in-github",
        "colab_type": "text"
      },
      "source": [
        "<a href=\"https://colab.research.google.com/github/VictorOPreuss/MeLi-Data-Challenge-2020/blob/main/MeLi_Data_Challenge_2020.ipynb\" target=\"_parent\"><img src=\"https://colab.research.google.com/assets/colab-badge.svg\" alt=\"Open In Colab\"/></a>"
      ]
    },
    {
      "cell_type": "markdown",
      "metadata": {
        "id": "JGbvq4ZU2iP-"
      },
      "source": [
        "# **Bibliotecas**"
      ]
    },
    {
      "cell_type": "code",
      "metadata": {
        "id": "j-Jas8FMfiCP",
        "outputId": "887e8cc5-2ad7-4668-c507-135f9827f47c",
        "colab": {
          "base_uri": "https://localhost:8080/"
        }
      },
      "source": [
        "!sudo apt-get update"
      ],
      "execution_count": 4,
      "outputs": [
        {
          "output_type": "stream",
          "text": [
            "\r0% [Working]\r            \rGet:1 https://cloud.r-project.org/bin/linux/ubuntu bionic-cran40/ InRelease [3,626 B]\n",
            "\r0% [Connecting to archive.ubuntu.com (91.189.88.142)] [Connecting to security.u\r0% [Connecting to archive.ubuntu.com (91.189.88.142)] [Connecting to security.u\r0% [1 InRelease gpgv 3,626 B] [Connecting to archive.ubuntu.com (91.189.88.142)\r                                                                               \rIgn:2 https://developer.download.nvidia.com/compute/cuda/repos/ubuntu1804/x86_64  InRelease\n",
            "\r0% [1 InRelease gpgv 3,626 B] [Connecting to archive.ubuntu.com (91.189.88.142)\r                                                                               \rIgn:3 https://developer.download.nvidia.com/compute/machine-learning/repos/ubuntu1804/x86_64  InRelease\n",
            "\r0% [1 InRelease gpgv 3,626 B] [Connecting to archive.ubuntu.com (91.189.88.142)\r                                                                               \rGet:4 https://developer.download.nvidia.com/compute/cuda/repos/ubuntu1804/x86_64  Release [697 B]\n",
            "\r0% [1 InRelease gpgv 3,626 B] [Connecting to archive.ubuntu.com (91.189.88.142)\r0% [1 InRelease gpgv 3,626 B] [Connecting to archive.ubuntu.com (91.189.88.142)\r                                                                               \rGet:5 https://developer.download.nvidia.com/compute/machine-learning/repos/ubuntu1804/x86_64  Release [564 B]\n",
            "\r0% [1 InRelease gpgv 3,626 B] [Waiting for headers] [Connecting to security.ubu\r0% [1 InRelease gpgv 3,626 B] [Waiting for headers] [Connecting to security.ubu\r                                                                               \rGet:6 https://developer.download.nvidia.com/compute/cuda/repos/ubuntu1804/x86_64  Release.gpg [836 B]\n",
            "Get:7 https://developer.download.nvidia.com/compute/machine-learning/repos/ubuntu1804/x86_64  Release.gpg [833 B]\n",
            "Hit:8 http://archive.ubuntu.com/ubuntu bionic InRelease\n",
            "Get:9 http://ppa.launchpad.net/c2d4u.team/c2d4u4.0+/ubuntu bionic InRelease [15.9 kB]\n",
            "Get:10 http://security.ubuntu.com/ubuntu bionic-security InRelease [88.7 kB]\n",
            "Ign:11 https://developer.download.nvidia.com/compute/cuda/repos/ubuntu1804/x86_64  Packages\n",
            "Get:11 https://developer.download.nvidia.com/compute/cuda/repos/ubuntu1804/x86_64  Packages [407 kB]\n",
            "Get:12 http://archive.ubuntu.com/ubuntu bionic-updates InRelease [88.7 kB]\n",
            "Get:13 https://developer.download.nvidia.com/compute/machine-learning/repos/ubuntu1804/x86_64  Packages [58.5 kB]\n",
            "Get:14 http://ppa.launchpad.net/graphics-drivers/ppa/ubuntu bionic InRelease [21.3 kB]\n",
            "Get:15 http://archive.ubuntu.com/ubuntu bionic-backports InRelease [74.6 kB]\n",
            "Get:16 http://security.ubuntu.com/ubuntu bionic-security/main amd64 Packages [1,781 kB]\n",
            "Get:17 http://archive.ubuntu.com/ubuntu bionic-updates/multiverse amd64 Packages [46.3 kB]\n",
            "Get:18 http://ppa.launchpad.net/c2d4u.team/c2d4u4.0+/ubuntu bionic/main Sources [1,688 kB]\n",
            "Get:19 http://archive.ubuntu.com/ubuntu bionic-updates/main amd64 Packages [2,198 kB]\n",
            "Get:20 http://archive.ubuntu.com/ubuntu bionic-updates/restricted amd64 Packages [247 kB]\n",
            "Get:21 http://archive.ubuntu.com/ubuntu bionic-updates/universe amd64 Packages [2,129 kB]\n",
            "Get:22 http://security.ubuntu.com/ubuntu bionic-security/multiverse amd64 Packages [15.8 kB]\n",
            "Get:23 http://security.ubuntu.com/ubuntu bionic-security/restricted amd64 Packages [222 kB]\n",
            "Get:24 http://security.ubuntu.com/ubuntu bionic-security/universe amd64 Packages [1,365 kB]\n",
            "Get:25 http://ppa.launchpad.net/c2d4u.team/c2d4u4.0+/ubuntu bionic/main amd64 Packages [864 kB]\n",
            "Get:26 http://ppa.launchpad.net/graphics-drivers/ppa/ubuntu bionic/main amd64 Packages [46.6 kB]\n",
            "Fetched 11.4 MB in 4s (2,970 kB/s)\n",
            "Reading package lists... Done\n"
          ],
          "name": "stdout"
        }
      ]
    },
    {
      "cell_type": "code",
      "metadata": {
        "id": "7T5kacIFnN80",
        "outputId": "68a69510-8b1f-4c69-82c9-8a2dd97a2034",
        "colab": {
          "base_uri": "https://localhost:8080/"
        }
      },
      "source": [
        "\n",
        "# Install spark-related dependencies\n",
        "!apt-get install openjdk-8-jdk-headless -qq > /dev/null\n",
        "!wget -q http://apache.osuosl.org/spark/spark-3.0.1/spark-3.0.1-bin-hadoop2.7.tgz\n",
        "!tar xf spark-3.0.1-bin-hadoop2.7.tgz\n",
        "\n",
        "!pip install -q findspark\n",
        "!pip install pyspark\n",
        "# Set up required environment variables\n",
        "\n",
        "import os\n",
        "os.environ[\"JAVA_HOME\"] = \"/usr/lib/jvm/java-8-openjdk-amd64\"\n",
        "os.environ[\"SPARK_HOME\"] = \"/content/spark-3.0.1-bin-hadoop2.7\"\n"
      ],
      "execution_count": 5,
      "outputs": [
        {
          "output_type": "stream",
          "text": [
            "Requirement already satisfied: pyspark in /usr/local/lib/python3.6/dist-packages (3.0.1)\n",
            "Requirement already satisfied: py4j==0.10.9 in /usr/local/lib/python3.6/dist-packages (from pyspark) (0.10.9)\n"
          ],
          "name": "stdout"
        }
      ]
    },
    {
      "cell_type": "code",
      "metadata": {
        "id": "qj-7iAgMcO0s"
      },
      "source": [
        "# Tools we need to connect to the Spark server, load our data,\n",
        "# clean it and prepare it\n",
        "from pyspark import SparkContext\n",
        "from pyspark.sql import SparkSession\n",
        "\n",
        "from pyspark.ml import Pipeline\n",
        "from pyspark.ml.classification import RandomForestClassifier\n",
        "from pyspark.ml.feature import IndexToString, StringIndexer, VectorIndexer, VectorAssembler\n",
        "from pyspark.ml.evaluation import MulticlassClassificationEvaluator\n",
        "\n",
        "from pyspark.sql.functions import *\n",
        "from pyspark.sql.functions import monotonically_increasing_id \n",
        "\n",
        "import pandas as pd\n",
        "import numpy as np\n",
        "\n",
        "import seaborn as sns\n",
        "import matplotlib.pyplot as plt\n",
        "from matplotlib.patches import Ellipse\n",
        "from matplotlib import rcParams\n",
        "rcParams['figure.figsize'] = 16, 8\n",
        "\n",
        "from scipy.stats import kurtosis, skew\n",
        "from sklearn.cluster import KMeans\n",
        "from sklearn.metrics import silhouette_score\n",
        "from sklearn.decomposition import PCA\n",
        "from sklearn.impute import SimpleImputer\n",
        "from sklearn.preprocessing import MinMaxScaler\n",
        "from sklearn.mixture import GaussianMixture as GMM\n",
        "from sklearn.model_selection import train_test_split\n",
        "\n",
        "import os\n",
        "import requests \n",
        "import zipfile\n",
        "from google.colab import files\n",
        "\n",
        "# settings\n",
        "import warnings\n",
        "warnings.filterwarnings(\"ignore\")\n",
        "%matplotlib inline\n",
        "\n",
        "pd.set_option(\"display.max_columns\", 200)\n",
        "pd.set_option(\"display.max_rows\", 200)"
      ],
      "execution_count": 3,
      "outputs": []
    },
    {
      "cell_type": "markdown",
      "metadata": {
        "id": "YnRMA0Yo2LYa"
      },
      "source": [
        "# **Funções**"
      ]
    },
    {
      "cell_type": "code",
      "metadata": {
        "id": "FgScx1nj5r37"
      },
      "source": [
        "# Function to calculate missing values by column\n",
        "\n",
        "def missing_values_table(df):\n",
        "        # Total missing values\n",
        "        mis_val = df.isnull().sum()\n",
        "        \n",
        "        # Percentage of missing values\n",
        "        mis_val_percent = 100 * df.isnull().sum() / len(df)\n",
        "        \n",
        "        # Make a table with the results\n",
        "        mis_val_table = pd.concat([mis_val, mis_val_percent], axis=1)\n",
        "        \n",
        "        # Rename the columns\n",
        "        mis_val_table_ren_columns = mis_val_table.rename(\n",
        "        columns = {0 : 'Missing Values', 1 : '% of Total Values'})\n",
        "        \n",
        "        # Sort the table by percentage of missing descending\n",
        "        mis_val_table_ren_columns = mis_val_table_ren_columns[\n",
        "            mis_val_table_ren_columns.iloc[:,1] != 0].sort_values(\n",
        "        '% of Total Values', ascending=False).round(1)\n",
        "        \n",
        "        # Print some summary information\n",
        "        print (\"Your selected dataframe has \" + str(df.shape[1]) + \" columns.\\n\"      \n",
        "            \"There are \" + str(mis_val_table_ren_columns.shape[0]) +\n",
        "              \" columns that have missing values.\")\n",
        "        \n",
        "        # Return the dataframe with missing information\n",
        "        return mis_val_table_ren_columns\n",
        "\n",
        "# Function to calculate % of values in a column\n",
        "\n",
        "def percent_value_counts(df, feature):\n",
        "    \"\"\"This function takes in a dataframe and a column and finds the percentage of the value_counts\"\"\"\n",
        "    percent = pd.DataFrame(round(df.loc[:,feature].value_counts(dropna=False, normalize=True)*100,2))\n",
        "    ## creating a df with th\n",
        "    total = pd.DataFrame(df.loc[:,feature].value_counts(dropna=False))\n",
        "    ## concating percent and total dataframe\n",
        "\n",
        "    total.columns = [\"Total\"]\n",
        "    percent.columns = ['Percent']\n",
        "    return pd.concat([total, percent], axis = 1)\n",
        "\n",
        "# Function to keep columns with < X% missing values\n",
        "\n",
        "def drop_features(df, percentage_missing_values): # keep columns with % of missing values < percentage_missing_values\n",
        "\n",
        "  df_droped = df[df.columns[df.isnull().mean() <= (percentage_missing_values/100)]]\n",
        "  \n",
        "  return df_droped\n",
        "\n",
        "# Function Histograms\n",
        "\n",
        "def histograms(df, column):\n",
        "  \n",
        "  return df[column].plot(kind='hist', bins=100, figsize=(12,6), facecolor='grey',edgecolor='black')\n",
        "\n",
        "# Function Kurtosis and Skewness\n",
        "\n",
        "def kurt_and_skew(df, column):\n",
        "  \n",
        "  return print('Kurtosis:', kurtosis(df[column], nan_policy='omit'), 'Skew:', skew(df[column], nan_policy='omit'))\n",
        "\n",
        "# Function for KNN model-based imputation of missing values using features without NaN as predictors\n",
        "\n",
        "def impute_model_basic(df):\n",
        "  cols_nan = df.columns[df.isna().any()].tolist()    \n",
        "  cols_no_nan = df.columns.difference(cols_nan).values            \n",
        "  for col in cols_nan:\n",
        "      test_data = df[df[col].isna()]\n",
        "      train_data = df.dropna()\n",
        "      knr = KNeighborsRegressor(n_neighbors=5).fit(train_data[cols_no_nan], train_data[col])\n",
        "      df.loc[df[col].isna(), col] = knr.predict(test_data[cols_no_nan])\n",
        "  return df\n",
        "\n",
        "# Functions GMM article\n",
        "\n",
        "def draw_ellipse(position, covariance, ax=None, **kwargs):\n",
        "    \"\"\"Draw an ellipse with a given position and covariance\"\"\"\n",
        "    ax = ax or plt.gca()\n",
        "    # Convert covariance to principal axes\n",
        "    if covariance.shape == (2, 2):\n",
        "        U, s, Vt = np.linalg.svd(covariance)\n",
        "        angle = np.degrees(np.arctan2(U[1, 0], U[0, 0]))\n",
        "        width, height = 2 * np.sqrt(s)\n",
        "    else:\n",
        "        angle = 0\n",
        "        width, height = 2 * np.sqrt(covariance)\n",
        "    \n",
        "    # Draw the Ellipse\n",
        "    for nsig in range(1, 4):\n",
        "        ax.add_patch(Ellipse(position, nsig * width, nsig * height,\n",
        "                             angle, **kwargs))\n",
        "        \n",
        "def plot_gmm(gmm, X, label=True, ax=None):\n",
        "    ax = ax or plt.gca()\n",
        "    labels = gmm.fit(X).predict(X)\n",
        "    if label:\n",
        "        ax.scatter(X[:, 0], X[:, 1], c=labels, s=40, cmap='viridis', zorder=2)\n",
        "    else:\n",
        "        ax.scatter(X[:, 0], X[:, 1], s=40, zorder=2)\n",
        "    \n",
        "    w_factor = 0.2 / gmm.weights_.max()\n",
        "    for pos, covar, w in zip(gmm.means_, gmm.covariances_, gmm.weights_):\n",
        "        draw_ellipse(pos, covar, alpha=w * w_factor)\n",
        "    plt.title(\"GMM with %d components\"%len(gmm.means_), fontsize=(20))\n",
        "    plt.xlabel(\"U.A.\")\n",
        "    plt.ylabel(\"U.A.\")\n",
        "def SelBest(arr:list, X:int)->list:\n",
        "    '''\n",
        "    returns the set of X configurations with shorter distance\n",
        "    '''\n",
        "    dx=np.argsort(arr)[:X]\n",
        "    return arr[dx]\n",
        "\n",
        "def normalize_col(df_col):\n",
        "    return (df_col-df_col.min())/(df_col.max()-df_col.min())\n",
        "\n",
        "def resumetable(df):\n",
        "    print(f\"Dataset Shape: {df.shape}\")\n",
        "    summary = pd.DataFrame(df.dtypes,columns=['dtypes'])\n",
        "    summary = summary.reset_index()\n",
        "    summary['Name'] = summary['index']\n",
        "    summary = summary[['Name','dtypes']]\n",
        "    summary['Missing'] = df.isnull().sum().values    \n",
        "    summary['Uniques'] = df.nunique().values\n",
        "    summary['First Value'] = df.loc[0].values\n",
        "    summary['Second Value'] = df.loc[1].values\n",
        "    summary['Third Value'] = df.loc[2].values\n",
        "\n",
        "    for name in summary['Name'].value_counts().index:\n",
        "        summary.loc[summary['Name'] == name, 'Entropy'] = round(stats.entropy(df[name].value_counts(normalize=True), base=2),2) \n",
        "\n",
        "    return summary\n",
        "\n",
        "## Function to reduce the DF size\n",
        "def reduce_mem_usage(df, verbose=True):\n",
        "    numerics = ['int16', 'int32', 'int64', 'float16', 'float32', 'float64']\n",
        "    start_mem = df.memory_usage().sum() / 1024**2    \n",
        "    for col in df.columns:\n",
        "        col_type = df[col].dtypes\n",
        "        if col_type in numerics:\n",
        "            c_min = df[col].min()\n",
        "            c_max = df[col].max()\n",
        "            if str(col_type)[:3] == 'int':\n",
        "                if c_min > np.iinfo(np.int8).min and c_max < np.iinfo(np.int8).max:\n",
        "                    df[col] = df[col].astype(np.int8)\n",
        "                elif c_min > np.iinfo(np.int16).min and c_max < np.iinfo(np.int16).max:\n",
        "                    df[col] = df[col].astype(np.int16)\n",
        "                elif c_min > np.iinfo(np.int32).min and c_max < np.iinfo(np.int32).max:\n",
        "                    df[col] = df[col].astype(np.int32)\n",
        "                elif c_min > np.iinfo(np.int64).min and c_max < np.iinfo(np.int64).max:\n",
        "                    df[col] = df[col].astype(np.int64)  \n",
        "            else:\n",
        "                if c_min > np.finfo(np.float16).min and c_max < np.finfo(np.float16).max:\n",
        "                    df[col] = df[col].astype(np.float16)\n",
        "                elif c_min > np.finfo(np.float32).min and c_max < np.finfo(np.float32).max:\n",
        "                    df[col] = df[col].astype(np.float32)\n",
        "                else:\n",
        "                    df[col] = df[col].astype(np.float64)    \n",
        "    end_mem = df.memory_usage().sum() / 1024**2\n",
        "    if verbose: print('Mem. usage decreased to {:5.2f} Mb ({:.1f}% reduction)'.format(end_mem, 100 * (start_mem - end_mem) / start_mem))\n",
        "    return df\n",
        "\n",
        "def CalcOutliers(df_num): \n",
        "\n",
        "    # calculating mean and std of the array\n",
        "    data_mean, data_std = np.mean(df_num), np.std(df_num)\n",
        "\n",
        "    # seting the cut line to both higher and lower values\n",
        "    # You can change this value\n",
        "    cut = data_std * 3\n",
        "\n",
        "    #Calculating the higher and lower cut values\n",
        "    lower, upper = data_mean - cut, data_mean + cut\n",
        "\n",
        "    # creating an array of lower, higher and total outlier values \n",
        "    outliers_lower = [x for x in df_num if x < lower]\n",
        "    outliers_higher = [x for x in df_num if x > upper]\n",
        "    outliers_total = [x for x in df_num if x < lower or x > upper]\n",
        "\n",
        "    # array without outlier values\n",
        "    outliers_removed = [x for x in df_num if x > lower and x < upper]\n",
        "    \n",
        "    print('Identified lowest outliers: %d' % len(outliers_lower)) # printing total number of values in lower cut of outliers\n",
        "    print('Identified upper outliers: %d' % len(outliers_higher)) # printing total number of values in higher cut of outliers\n",
        "    print('Total outlier observations: %d' % len(outliers_total)) # printing total number of values outliers of both sides\n",
        "    print('Non-outlier observations: %d' % len(outliers_removed)) # printing total number of non outlier values\n",
        "    print(\"Total percentual of Outliers: \", round((len(outliers_total) / len(outliers_removed) )*100, 4)) # Percentual of outliers in points\n",
        "    \n",
        "    return"
      ],
      "execution_count": 6,
      "outputs": []
    },
    {
      "cell_type": "code",
      "metadata": {
        "id": "qktjSXQ2Ia9w"
      },
      "source": [
        "import findspark\n",
        "findspark.init(\"spark-3.0.1-bin-hadoop2.7\")# SPARK_HOME\n",
        "from pyspark.sql import SparkSession\n",
        "spark = SparkSession.builder.master(\"local[*]\").getOrCreate()"
      ],
      "execution_count": 7,
      "outputs": []
    },
    {
      "cell_type": "markdown",
      "metadata": {
        "id": "Tp9UpJV7o6c2"
      },
      "source": [
        "# **ETL**"
      ]
    },
    {
      "cell_type": "code",
      "metadata": {
        "id": "rB-jYb04MXPF",
        "outputId": "d968f468-895c-4dce-e111-b47baae8a26a",
        "colab": {
          "base_uri": "https://localhost:8080/"
        }
      },
      "source": [
        "\n",
        "! wget https://meli-data-challenge.s3.amazonaws.com/2020/train_dataset.jl.gz\n",
        "! wget https://meli-data-challenge.s3.amazonaws.com/2020/test_dataset.jl.gz\n",
        "! wget https://meli-data-challenge.s3.amazonaws.com/2020/item_data.jl.gz\n",
        "! wget https://meli-data-challenge.s3.amazonaws.com/2020/sample_submission.csv\n"
      ],
      "execution_count": 8,
      "outputs": [
        {
          "output_type": "stream",
          "text": [
            "--2020-11-14 13:58:15--  https://meli-data-challenge.s3.amazonaws.com/2020/train_dataset.jl.gz\n",
            "Resolving meli-data-challenge.s3.amazonaws.com (meli-data-challenge.s3.amazonaws.com)... 52.217.36.252\n",
            "Connecting to meli-data-challenge.s3.amazonaws.com (meli-data-challenge.s3.amazonaws.com)|52.217.36.252|:443... connected.\n",
            "HTTP request sent, awaiting response... 200 OK\n",
            "Length: 128022297 (122M) [application/x-gzip]\n",
            "Saving to: ‘train_dataset.jl.gz’\n",
            "\n",
            "train_dataset.jl.gz 100%[===================>] 122.09M  39.0MB/s    in 3.1s    \n",
            "\n",
            "2020-11-14 13:58:19 (39.0 MB/s) - ‘train_dataset.jl.gz’ saved [128022297/128022297]\n",
            "\n",
            "--2020-11-14 13:58:19--  https://meli-data-challenge.s3.amazonaws.com/2020/test_dataset.jl.gz\n",
            "Resolving meli-data-challenge.s3.amazonaws.com (meli-data-challenge.s3.amazonaws.com)... 52.216.228.168\n",
            "Connecting to meli-data-challenge.s3.amazonaws.com (meli-data-challenge.s3.amazonaws.com)|52.216.228.168|:443... connected.\n",
            "HTTP request sent, awaiting response... 200 OK\n",
            "Length: 54305870 (52M) [application/x-gzip]\n",
            "Saving to: ‘test_dataset.jl.gz’\n",
            "\n",
            "test_dataset.jl.gz  100%[===================>]  51.79M  32.7MB/s    in 1.6s    \n",
            "\n",
            "2020-11-14 13:58:21 (32.7 MB/s) - ‘test_dataset.jl.gz’ saved [54305870/54305870]\n",
            "\n",
            "--2020-11-14 13:58:21--  https://meli-data-challenge.s3.amazonaws.com/2020/item_data.jl.gz\n",
            "Resolving meli-data-challenge.s3.amazonaws.com (meli-data-challenge.s3.amazonaws.com)... 52.216.228.168\n",
            "Connecting to meli-data-challenge.s3.amazonaws.com (meli-data-challenge.s3.amazonaws.com)|52.216.228.168|:443... connected.\n",
            "HTTP request sent, awaiting response... 200 OK\n",
            "Length: 111301075 (106M) [application/x-gzip]\n",
            "Saving to: ‘item_data.jl.gz’\n",
            "\n",
            "item_data.jl.gz     100%[===================>] 106.14M  38.2MB/s    in 2.8s    \n",
            "\n",
            "2020-11-14 13:58:24 (38.2 MB/s) - ‘item_data.jl.gz’ saved [111301075/111301075]\n",
            "\n",
            "--2020-11-14 13:58:24--  https://meli-data-challenge.s3.amazonaws.com/2020/sample_submission.csv\n",
            "Resolving meli-data-challenge.s3.amazonaws.com (meli-data-challenge.s3.amazonaws.com)... 52.216.228.152\n",
            "Connecting to meli-data-challenge.s3.amazonaws.com (meli-data-challenge.s3.amazonaws.com)|52.216.228.152|:443... connected.\n",
            "HTTP request sent, awaiting response... 200 OK\n",
            "Length: 13229402 (13M) [text/csv]\n",
            "Saving to: ‘sample_submission.csv’\n",
            "\n",
            "sample_submission.c 100%[===================>]  12.62M  17.6MB/s    in 0.7s    \n",
            "\n",
            "2020-11-14 13:58:25 (17.6 MB/s) - ‘sample_submission.csv’ saved [13229402/13229402]\n",
            "\n"
          ],
          "name": "stdout"
        }
      ]
    },
    {
      "cell_type": "code",
      "metadata": {
        "id": "VNEiMUXTeT7u"
      },
      "source": [
        "\n",
        "! gunzip train_dataset.jl.gz\n",
        "! gunzip test_dataset.jl.gz\n",
        "! gunzip item_data.jl.gz\n"
      ],
      "execution_count": 9,
      "outputs": []
    },
    {
      "cell_type": "code",
      "metadata": {
        "id": "Rh4u8lzpRBGl"
      },
      "source": [
        "train_path = '/content/train_dataset.jl'\n",
        "test_path = '/content/test_dataset.jl'\n",
        "item_data_path = '/content/item_data.jl'"
      ],
      "execution_count": 10,
      "outputs": []
    },
    {
      "cell_type": "code",
      "metadata": {
        "id": "uII0waJ0HxBC"
      },
      "source": [
        "train = spark.read.json(train_path, multiLine= False)\n",
        "test = spark.read.json(test_path, multiLine= False)\n",
        "item_data = spark.read.json(item_data_path)\n",
        "sample_submission = pd.read_csv('sample_submission.csv')"
      ],
      "execution_count": 11,
      "outputs": []
    },
    {
      "cell_type": "code",
      "metadata": {
        "id": "9flQ7V9LJZby",
        "outputId": "b55644c9-878c-45d7-cceb-71ff32bacda1",
        "colab": {
          "base_uri": "https://localhost:8080/"
        }
      },
      "source": [
        "train.printSchema()"
      ],
      "execution_count": 12,
      "outputs": [
        {
          "output_type": "stream",
          "text": [
            "root\n",
            " |-- item_bought: long (nullable = true)\n",
            " |-- user_history: array (nullable = true)\n",
            " |    |-- element: struct (containsNull = true)\n",
            " |    |    |-- event_info: string (nullable = true)\n",
            " |    |    |-- event_timestamp: string (nullable = true)\n",
            " |    |    |-- event_type: string (nullable = true)\n",
            "\n"
          ],
          "name": "stdout"
        }
      ]
    },
    {
      "cell_type": "code",
      "metadata": {
        "id": "rxjXFM1FKArJ",
        "outputId": "9fd86370-b565-432f-97a3-67afcd022e81",
        "colab": {
          "base_uri": "https://localhost:8080/"
        }
      },
      "source": [
        "test.printSchema()"
      ],
      "execution_count": 13,
      "outputs": [
        {
          "output_type": "stream",
          "text": [
            "root\n",
            " |-- user_history: array (nullable = true)\n",
            " |    |-- element: struct (containsNull = true)\n",
            " |    |    |-- event_info: string (nullable = true)\n",
            " |    |    |-- event_timestamp: string (nullable = true)\n",
            " |    |    |-- event_type: string (nullable = true)\n",
            "\n"
          ],
          "name": "stdout"
        }
      ]
    },
    {
      "cell_type": "code",
      "metadata": {
        "id": "fZNa7zmqKDbQ",
        "outputId": "a2a49a6b-8445-4965-a0c2-210cae8f9f3a",
        "colab": {
          "base_uri": "https://localhost:8080/"
        }
      },
      "source": [
        "item_data.printSchema()"
      ],
      "execution_count": 14,
      "outputs": [
        {
          "output_type": "stream",
          "text": [
            "root\n",
            " |-- category_id: string (nullable = true)\n",
            " |-- condition: string (nullable = true)\n",
            " |-- domain_id: string (nullable = true)\n",
            " |-- item_id: long (nullable = true)\n",
            " |-- price: string (nullable = true)\n",
            " |-- product_id: string (nullable = true)\n",
            " |-- title: string (nullable = true)\n",
            "\n"
          ],
          "name": "stdout"
        }
      ]
    },
    {
      "cell_type": "code",
      "metadata": {
        "id": "-Vg0S8cnoosz"
      },
      "source": [
        "train_index = train.select(\"*\").withColumn(\"id\", monotonically_increasing_id())\n",
        "test_index = test.select(\"*\").withColumn(\"id\", monotonically_increasing_id())"
      ],
      "execution_count": 15,
      "outputs": []
    },
    {
      "cell_type": "code",
      "metadata": {
        "id": "A5V5WoVkZnE5"
      },
      "source": [
        "train_final = (train_index\n",
        "        .select(\"item_bought\", \"id\", \n",
        "explode(\"user_history\").alias(\"new_user_history\"))\n",
        "        .select(\"item_bought\", \"id\", \"new_user_history.*\"))"
      ],
      "execution_count": 16,
      "outputs": []
    },
    {
      "cell_type": "code",
      "metadata": {
        "id": "7Ar5V-dMay8h"
      },
      "source": [
        "test_final = (test_index\n",
        "        .select(\"id\", explode(\"user_history\").alias(\"new_user_history\"))\n",
        "        .select(\"id\", \"new_user_history.*\"))"
      ],
      "execution_count": 17,
      "outputs": []
    },
    {
      "cell_type": "markdown",
      "metadata": {
        "id": "GtANMAvrbXEh"
      },
      "source": [
        "# **EDA & Prep - Baseline**"
      ]
    },
    {
      "cell_type": "code",
      "metadata": {
        "id": "cMh_-V8Rboo3",
        "outputId": "a861a900-546b-4623-8e2b-cc35ca907036",
        "colab": {
          "base_uri": "https://localhost:8080/"
        }
      },
      "source": [
        "train_final.show(10)"
      ],
      "execution_count": 18,
      "outputs": [
        {
          "output_type": "stream",
          "text": [
            "+-----------+---+------------------+--------------------+----------+\n",
            "|item_bought| id|        event_info|     event_timestamp|event_type|\n",
            "+-----------+---+------------------+--------------------+----------+\n",
            "|    1748830|  0|           1786148|2019-10-19T11:25:...|      view|\n",
            "|    1748830|  0|           1786148|2019-10-19T11:25:...|      view|\n",
            "|    1748830|  0|RELOGIO SMARTWATCH|2019-10-19T11:26:...|    search|\n",
            "|    1748830|  0|           1615991|2019-10-19T11:27:...|      view|\n",
            "|    1748830|  0|           1615991|2019-10-19T11:28:...|      view|\n",
            "|    1748830|  0|           1615991|2019-10-19T11:28:...|      view|\n",
            "|    1748830|  0|           1615991|2019-10-19T11:30:...|      view|\n",
            "|    1748830|  0|           1615991|2019-10-19T21:51:...|      view|\n",
            "|    1748830|  0|           1615991|2019-10-19T21:52:...|      view|\n",
            "|    1748830|  0|           1615991|2019-10-19T21:52:...|      view|\n",
            "+-----------+---+------------------+--------------------+----------+\n",
            "only showing top 10 rows\n",
            "\n"
          ],
          "name": "stdout"
        }
      ]
    },
    {
      "cell_type": "code",
      "metadata": {
        "id": "CJr2GPUINVAK",
        "outputId": "bca13598-5fa4-4ad1-ea0e-d2459a2109ef",
        "colab": {
          "base_uri": "https://localhost:8080/"
        }
      },
      "source": [
        "test_final.show(10)"
      ],
      "execution_count": 42,
      "outputs": [
        {
          "output_type": "stream",
          "text": [
            "+---+----------+--------------------+----------+\n",
            "| id|event_info|     event_timestamp|event_type|\n",
            "+---+----------+--------------------+----------+\n",
            "|  0|   1572239|2019-09-26T18:31:...|      view|\n",
            "|  0|   1572239|2019-09-26T18:35:...|      view|\n",
            "|  0|   1572239|2019-09-26T18:37:...|      view|\n",
            "|  0|   1572239|2019-09-26T18:38:...|      view|\n",
            "|  0|   1572239|2019-09-26T18:40:...|      view|\n",
            "|  0|   1572239|2019-09-26T18:40:...|      view|\n",
            "|  0|   1572239|2019-09-26T18:41:...|      view|\n",
            "|  0|   1572239|2019-09-26T18:41:...|      view|\n",
            "|  0|   1572239|2019-09-26T19:03:...|      view|\n",
            "|  0|   1194894|2019-09-27T21:33:...|      view|\n",
            "+---+----------+--------------------+----------+\n",
            "only showing top 10 rows\n",
            "\n"
          ],
          "name": "stdout"
        }
      ]
    },
    {
      "cell_type": "code",
      "metadata": {
        "id": "5p8mlGawp6Jw",
        "outputId": "35ced005-58ee-4972-f2bf-e5b3ce87ce22",
        "colab": {
          "base_uri": "https://localhost:8080/"
        }
      },
      "source": [
        "item_data.show(10)"
      ],
      "execution_count": 19,
      "outputs": [
        {
          "output_type": "stream",
          "text": [
            "+-----------+---------+--------------------+-------+----------+----------+--------------------+\n",
            "|category_id|condition|           domain_id|item_id|     price|product_id|               title|\n",
            "+-----------+---------+--------------------+-------+----------+----------+--------------------+\n",
            "|  MLM170527|      new|MLM-INDIVIDUAL_HO...| 111260|1150000.00|      null|Casa Sola En Vent...|\n",
            "|  MLM151595|      new|     MLM-VIDEO_GAMES| 871377|   1392.83|  15270800|Resident Evil Ori...|\n",
            "|    MLM7697|      new|          MLM-SKIRTS| 490232|    350.00|      null|Falda De Imitació...|\n",
            "|    MLM9761|     used|  MLM-GRAPHICS_CARDS|1150706|   3200.00|      null|Powercolor Red De...|\n",
            "|    MLM1652|     used|       MLM-NOTEBOOKS| 934912|   1599.00|      null|Laptop Hp Nx6320 ...|\n",
            "|   MLM92472|      new|MLM-VEHICLE_ACCES...| 534737|    470.00|      null|Transmisor Fm Sin...|\n",
            "|  MLM167442|      new|MLM-CELLPHONE_COVERS| 369182|    589.00|      null|Funda Cartera Cas...|\n",
            "|    MLM1588|      new|MLM-WALL_AND_CEIL...| 690585|    184.00|      null|Lampara De Techo ...|\n",
            "|  MLM167544|      new|  MLM-NAPKIN_HOLDERS| 890593|    879.00|      null|Repisa Organizado...|\n",
            "|  MLM193197|      new|           MLM-FLATS|1786901|    729.00|      null|Trío, Balerina, C...|\n",
            "+-----------+---------+--------------------+-------+----------+----------+--------------------+\n",
            "only showing top 10 rows\n",
            "\n"
          ],
          "name": "stdout"
        }
      ]
    },
    {
      "cell_type": "code",
      "metadata": {
        "id": "Pw_zWHJGrzUK",
        "outputId": "d61c0949-e1da-4dcd-d2a6-07be61b75373",
        "colab": {
          "base_uri": "https://localhost:8080/"
        }
      },
      "source": [
        "train_final.dtypes"
      ],
      "execution_count": 20,
      "outputs": [
        {
          "output_type": "execute_result",
          "data": {
            "text/plain": [
              "[('item_bought', 'bigint'),\n",
              " ('id', 'bigint'),\n",
              " ('event_info', 'string'),\n",
              " ('event_timestamp', 'string'),\n",
              " ('event_type', 'string')]"
            ]
          },
          "metadata": {
            "tags": []
          },
          "execution_count": 20
        }
      ]
    },
    {
      "cell_type": "code",
      "metadata": {
        "id": "bWRE00YklGXT",
        "outputId": "406e2d7c-78f8-49b9-f367-571b76a52654",
        "colab": {
          "base_uri": "https://localhost:8080/"
        }
      },
      "source": [
        "item_data.dtypes"
      ],
      "execution_count": 21,
      "outputs": [
        {
          "output_type": "execute_result",
          "data": {
            "text/plain": [
              "[('category_id', 'string'),\n",
              " ('condition', 'string'),\n",
              " ('domain_id', 'string'),\n",
              " ('item_id', 'bigint'),\n",
              " ('price', 'string'),\n",
              " ('product_id', 'string'),\n",
              " ('title', 'string')]"
            ]
          },
          "metadata": {
            "tags": []
          },
          "execution_count": 21
        }
      ]
    },
    {
      "cell_type": "code",
      "metadata": {
        "id": "0nzquOto6QgE"
      },
      "source": [
        "item_data.createGlobalTempView(\"metadata\")\n",
        "train_final.createGlobalTempView(\"train\")\n",
        "test_final.createGlobalTempView(\"test\")"
      ],
      "execution_count": 22,
      "outputs": []
    },
    {
      "cell_type": "code",
      "metadata": {
        "id": "Wo4usDuYvkMY"
      },
      "source": [
        "train_query = spark.sql(\"\"\"\n",
        "\n",
        "SELECT \n",
        "  t.id,\n",
        "  COUNT(DISTINCT t.event_info) AS unq_event_info,\n",
        "  SUM(CASE WHEN t.event_type = 'view' then 1 else 0 end) AS sum_view,\n",
        "  SUM(CASE WHEN t.event_type = 'search' then 1 else 0 end) AS sum_search,\n",
        "  MIN(to_timestamp(t.event_timestamp, \"yyyy-MM-dd'T'HH:mm:ss.SSS'-0400'\")) AS first_timestamp,\n",
        "  MAX(to_timestamp(t.event_timestamp, \"yyyy-MM-dd'T'HH:mm:ss.SSS'-0400'\")) AS last_timestamp,\n",
        "  (UNIX_TIMESTAMP(MAX(to_timestamp(t.event_timestamp, \"yyyy-MM-dd'T'HH:mm:ss.SSS'-0400'\"))) - UNIX_TIMESTAMP(MIN(to_timestamp(t.event_timestamp, \"yyyy-MM-dd'T'HH:mm:ss.SSS'-0400'\")))) AS diff_max_min_time_stamp_sec,\n",
        "  m.category_id,\n",
        "  t.event_info,\n",
        "  m.title,\n",
        "  ROUND(AVG(m.price),2) AS avg_price,\n",
        "  t.item_bought  \n",
        "FROM global_temp.train t\n",
        "LEFT JOIN global_temp.metadata m ON m.item_id = t.event_info\n",
        "GROUP BY t.id, t.event_info, m.title, m.category_id, t.item_bought\n",
        "SORT BY sum_view DESC, sum_search DESC\n",
        "\n",
        "\"\"\")"
      ],
      "execution_count": 92,
      "outputs": []
    },
    {
      "cell_type": "code",
      "metadata": {
        "id": "V5kjUpvJv1fY",
        "outputId": "54d6a81a-4717-4d8a-88cb-0ab55d361e77",
        "colab": {
          "base_uri": "https://localhost:8080/"
        }
      },
      "source": [
        "train_query.show(100)"
      ],
      "execution_count": 93,
      "outputs": [
        {
          "output_type": "stream",
          "text": [
            "+-----------+--------------+--------+----------+--------------------+--------------------+---------------------------+-----------+----------+--------------------+---------+-----------+\n",
            "|         id|unq_event_info|sum_view|sum_search|     first_timestamp|      last_timestamp|diff_max_min_time_stamp_sec|category_id|event_info|               title|avg_price|item_bought|\n",
            "+-----------+--------------+--------+----------+--------------------+--------------------+---------------------------+-----------+----------+--------------------+---------+-----------+\n",
            "|68719486401|             1|      55|         0|2019-10-09 17:40:...|2019-10-14 09:19:...|                     401989|   MLB23332|   1526724|Kit 4 Pares Tênis...|    149.9|    1040602|\n",
            "|17179897946|             1|      31|         0|2019-09-30 12:54:...|2019-10-02 19:10:...|                     195390|  MLB135384|    817689|Pulseira Mi Band ...|    179.0|     817689|\n",
            "| 8589941026|             1|      29|         0|2019-09-28 19:22:...|2019-09-30 16:20:...|                     161882|   MLB70616|   1776370|Pincel Maquiagem ...|    63.99|    1776370|\n",
            "|17179912062|             1|      28|         0|2019-10-11 00:49:...|2019-10-11 11:19:...|                      37796|  MLM167994|    944820|Keto Plus Diet Or...|    649.0|     319060|\n",
            "| 8589973065|             1|      27|         0|2019-10-09 12:22:...|2019-10-09 12:51:...|                       1769|   MLB23332|    849357|Kit C/2 Pares Sap...|    142.9|     849357|\n",
            "|42949710514|             1|      27|         0|2019-10-04 12:31:...|2019-10-07 08:35:...|                     245043|   MLB70617|    745252|Maleta Kit Maquia...|    199.9|     745252|\n",
            "|25769845221|             1|      26|         0|2019-10-09 15:52:...|2019-10-11 21:13:...|                     192079|    MLM5072|    356985|Redlemon Audífono...|    764.1|     356985|\n",
            "|17179900769|             1|      24|         0|2019-10-18 20:47:...|2019-10-18 23:06:...|                       8386|   MLB73057|   1127786|Micro-ondas Elect...|    227.0|     992759|\n",
            "| 8589975061|             1|      24|         0|2019-09-28 23:54:...|2019-10-01 17:37:...|                     236601|    MLM5072|   1206877|Audífonos Bluetoo...|    505.0|    1303554|\n",
            "|42949680133|             1|      23|         0|2019-10-13 12:04:...|2019-10-13 21:22:...|                      33456|  MLB268505|   1602021|Tapete De Ativida...|   203.76|    1286057|\n",
            "|      32182|             1|      23|         0|2019-09-27 20:10:...|2019-09-30 23:57:...|                     272821|  MLB120237|    880935|Multifatiador Elé...|    399.9|    1163975|\n",
            "|77309427675|             1|      23|         0|2019-10-15 04:48:...|2019-10-19 05:59:...|                     349848|  MLB108789|    630809|Kit Com 20 Cuecas...|    160.0|    1219504|\n",
            "|42949697090|             1|      22|         0|2019-10-14 17:42:...|2019-10-14 18:01:...|                       1123|    MLM6431|    698529|Mochila Antirrobo...|   481.05|     698529|\n",
            "| 8589966957|             1|      21|         0|2019-10-07 08:57:...|2019-10-08 23:50:...|                     139985|  MLB225837|    225989|Hoverboard Skate ...|   1150.0|    1388526|\n",
            "|68719504039|             1|      21|         0|2019-10-09 15:48:...|2019-10-11 08:08:...|                     145167|  MLB434728|   1242528|Bolsas De Bebe Ki...|   209.99|    1242528|\n",
            "|68719509078|             1|      21|         0|2019-10-11 20:31:...|2019-10-14 01:26:...|                     190471|  MLB189859|    494565|Motosserra / Moto...|   590.54|     833102|\n",
            "|25769840084|             1|      21|         0|2019-10-04 08:59:...|2019-10-05 05:58:...|                      75522|   MLB46675|   1820978|Par Farol Milha M...|   109.99|    2076133|\n",
            "|25769845697|             1|      21|         0|2019-09-24 18:35:...|2019-09-30 12:13:...|                     495504|   MLB46106|   1715299|Carrinho De Passe...|    565.9|     807651|\n",
            "|60129569508|             1|      21|         0|2019-10-22 19:29:...|2019-10-23 07:15:...|                      42316|  MLB263856|   1956143|Kit Manto Mini Rd...|    249.9|     986736|\n",
            "|42949710659|             1|      20|         0|2019-09-28 21:01:...|2019-09-29 19:14:...|                      79957|    MLB1262|    524705|Gel De Arnica Ext...|    79.99|     627392|\n",
            "|77309433655|             1|      20|         0|2019-10-07 14:54:...|2019-10-07 16:36:...|                       6096|  MLB270504|   1246466|Nobreak Bivolt 12...|    599.0|    1246466|\n",
            "|25769838530|             1|      19|         0|2019-10-21 19:38:...|2019-10-22 14:23:...|                      67474|    MLB1055|    422035|Xiaomi Mi A3 128g...|   1299.0|     422035|\n",
            "|77309431554|             1|      19|         0|2019-09-25 22:47:...|2019-09-30 21:53:...|                     428778|   MLB28108|   1405611|Carteira Porta Ca...|     34.9|     645597|\n",
            "|17179882010|             1|      18|         0|2019-10-08 21:13:...|2019-10-13 21:41:...|                     433685|  MLM180940|   1187013|Cama Masaje Onof ...|   2999.0|    1187013|\n",
            "| 8589964995|             1|      18|         0|2019-10-28 14:13:...|2019-10-28 20:21:...|                      22030|    MLM5072|    763362|Audifonos I7s Tws...|    199.0|    1469323|\n",
            "|60129551211|             1|      18|         0|2019-10-10 13:13:...|2019-10-14 10:37:...|                     336274|   MLB23332|   1528620|Tenis Feminino Mi...|    139.9|     791244|\n",
            "|51539621110|             1|      18|         0|2019-10-13 07:34:...|2019-10-13 08:22:...|                       2878|    MLB1055|   1678332|Xiaomi Mi 9t Dual...|   1699.0|    1087670|\n",
            "|25769832219|             1|      17|         0|2019-10-08 23:06:...|2019-10-09 17:14:...|                      65315|    MLB5092|   1675703|Gamepad Sr - Powe...|    65.79|    1675703|\n",
            "|17179871559|             1|      17|         0|2019-09-28 23:55:...|2019-10-03 00:02:...|                     346012|   MLM39145|   1286060|Audifonos Xiaomi ...|   730.32|    1286060|\n",
            "| 8589941270|             1|      17|         0|2019-10-16 18:42:...|2019-10-16 19:19:...|                       2250|   MLB23332|   1194828|Tenis Masculino M...|     49.0|    2083474|\n",
            "|60129553881|             1|      17|         0|2019-09-29 03:38:...|2019-10-01 20:05:...|                     232039|  MLM112156|   1260598|Vestido Manga Lar...|   329.42|    1260598|\n",
            "|      28804|             1|      17|         0|2019-10-07 16:44:...|2019-10-08 15:38:...|                      82417|    MLM1055|    558051|Xiaomi Redmi K20 ...|   9399.0|     558051|\n",
            "|51539629388|             1|      16|         0|2019-10-02 18:39:...|2019-10-03 18:11:...|                      84712|   MLB46675|   1780046|Par Farol De Milh...|     84.9|    1870754|\n",
            "|17179885927|             1|      16|         0|2019-10-10 17:23:...|2019-10-10 22:00:...|                      16614|  MLB272202|    633505|Kit Bota Coturno ...|     99.9|     115689|\n",
            "|68719504461|             1|      16|         0|2019-09-26 15:43:...|2019-09-28 19:11:...|                     185254|  MLB189195|   1249184|Kit 2 Pendente Go...|     79.9|    1226613|\n",
            "|34359779115|             1|      15|         0|2019-10-15 19:36:...|2019-10-18 17:49:...|                     252784|  MLB277999|   1495298|Jogo De Soquetes ...|   159.09|    1495298|\n",
            "|60129580193|             1|      15|         0|2019-10-07 17:38:...|2019-10-08 06:55:...|                      47804|  MLB108803|   1796596|Jaqueta  Corta Ve...|    118.0|    1796596|\n",
            "| 8589975843|             1|      15|         0|2019-09-30 14:05:...|2019-09-30 20:42:...|                      23828|    MLB4469|    576190|Super Voz 1 Tsi P...|    379.9|    1605246|\n",
            "|17179883334|             1|      15|         0|2019-09-29 20:18:...|2019-09-29 20:29:...|                        670|    MLB6851|     77848|Tenis Chuteira Cr...|    47.99|      77848|\n",
            "|60129573637|             1|      15|         0|2019-10-06 18:42:...|2019-10-06 20:01:...|                       4733|  MLB183804|    529081|Flamengo Feminina...|   149.99|    1861263|\n",
            "|51539630702|             1|      15|         0|2019-10-13 20:17:...|2019-10-13 22:19:...|                       7319|    MLB1435|    786728|Kit 4 Colares Gar...|    51.99|     842787|\n",
            "|42949677536|             1|      15|         0|2019-10-11 10:15:...|2019-10-11 10:55:...|                       2435|  MLB271453|    361883|Placa Lavadora Sa...|    720.0|    1716388|\n",
            "|      30895|             1|      14|         0|2019-10-19 16:22:...|2019-10-19 16:44:...|                       1326|    MLM5107|   1954412|Cable Micro Usb X...|    12.99|     113959|\n",
            "|34359767487|             1|      14|         0|2019-10-08 12:51:...|2019-10-09 00:33:...|                      42161|   MLB33447|    245690|Kit Motor Automat...|    330.0|     245690|\n",
            "|77309413585|             1|      14|         0|2019-09-27 12:27:...|2019-10-01 13:55:...|                     350918|  MLB225837|    225989|Hoverboard Skate ...|   1150.0|     225989|\n",
            "|60129567495|             1|      14|         0|2019-09-29 22:30:...|2019-09-30 18:11:...|                      70814|   MLB46243|   1014656|Cubo Mágico Profi...|    69.49|     404519|\n",
            "|      38883|             1|      14|         0|2019-10-05 17:16:...|2019-10-05 17:23:...|                        448|   MLB28158|    787085|Tênis Níke Air Ma...|     61.0|     787085|\n",
            "|17179897713|             1|      14|         0|2019-10-01 09:31:...|2019-10-01 09:48:...|                       1038|  MLM126793|   1200120|Reloj Celular Dz0...|    199.0|     215459|\n",
            "|42949674604|             1|      14|         0|2019-10-03 05:25:...|2019-10-03 12:35:...|                      25754|  MLB196208|   1327462|Fone Kz Zsn Pro R...|    159.6|    1852237|\n",
            "| 8589970852|             1|      14|         0|2019-10-20 10:44:...|2019-10-20 20:48:...|                      36211|   MLB33436|   2021194|Colchão D45 Casal...|    565.0|    1017181|\n",
            "|34359767640|             1|      14|         0|2019-09-24 23:19:...|2019-09-25 07:53:...|                      30854|    MLB9163|    337733|Tapete 2,00x2,40 ...|    229.9|    1251384|\n",
            "|68719510518|             1|      14|         0|2019-10-08 04:55:...|2019-10-08 05:06:...|                        647|   MLB28140|   2042942|Cabide Infantil C...|     29.9|    1879951|\n",
            "|       8175|             1|      14|         0|2019-09-30 14:11:...|2019-09-30 18:01:...|                      13810|  MLB186456|   1604019|  Jogo Fifa 20 - Ps4|   5099.0|     731599|\n",
            "|68719503455|             1|      14|         0|2019-10-21 19:05:...|2019-10-21 21:23:...|                       8280|  MLB108789|    810065|Kit 10 Cuecas Box...|   119.99|    1350168|\n",
            "|34359745863|             1|      14|         0|2019-10-21 09:02:...|2019-10-26 20:19:...|                     472616|   MLB22687|   1140653|Retrovisor  Mod F...|     59.9|    1140653|\n",
            "|34359746746|             1|      14|         0|2019-10-23 18:00:...|2019-10-23 18:40:...|                       2428|   MLB33430|   1663137|Cofre Digital Ele...|    104.9|    1663137|\n",
            "|      19608|             1|      14|         0|2019-10-04 14:14:...|2019-10-06 00:35:...|                     123700|  MLB430391|    686149|Biquíni Fio Denta...|     36.0|     342640|\n",
            "|25769827513|             1|      14|         0|2019-10-15 19:54:...|2019-10-15 20:30:...|                       2186|    MLB3843|   1975089|Caixa De Som Blue...|   179.99|    1028164|\n",
            "|34359745263|             1|      13|         0|2019-09-30 11:45:...|2019-10-02 11:35:...|                     172208|    MLB2968|   1803710|Bebê Reborn 21 It...|   259.99|     269583|\n",
            "|60129572771|             1|      13|         0|2019-09-25 17:18:...|2019-09-29 18:05:...|                     348429|  MLM180964|   1726168|Set De Brochas Ma...|     79.5|     568996|\n",
            "|77309430997|             1|      13|         0|2019-09-27 08:53:...|2019-09-30 21:12:...|                     303559|    MLB1055|   1471983|Xiaomi Mi A3 Dual...|   1120.0|    1848142|\n",
            "|68719509768|             1|      13|         0|2019-10-09 10:01:...|2019-10-09 10:55:...|                       3232|  MLB180269|   1070045|Bicicleta Bike In...|    259.7|    1164284|\n",
            "|68719501058|             1|      13|         0|2019-10-03 16:43:...|2019-10-03 19:12:...|                       8915|  MLB276629|   1780106|Sapato Sticky Sho...|     68.5|     109247|\n",
            "|34359765274|             1|      13|         0|2019-10-24 15:18:...|2019-10-24 22:50:...|                      27132|  MLB186052|   1093488|Mesa De Canto Pé ...|    119.9|     166328|\n",
            "|68719508718|             1|      13|         0|2019-10-18 11:38:...|2019-10-21 19:27:...|                     287324|  MLB196796|   1762291|Kit Unha De Acrig...|   194.99|    1342162|\n",
            "| 8589972375|             1|      13|         0|2019-10-27 09:39:...|2019-10-27 22:31:...|                      46279|    MLM5071|   1426898|Gatillos Pubg L1r...|     54.0|    1426898|\n",
            "|42949708625|             1|      13|         0|2019-10-06 11:14:...|2019-10-07 09:40:...|                      80796|  MLM191166|   1442685|Control Joycon Ni...|   2250.0|    1442685|\n",
            "|77309430325|             1|      13|         0|2019-10-02 21:03:...|2019-10-03 23:24:...|                      94863|   MLB28130|   1183031|Saída De Maternid...|     88.9|    1339046|\n",
            "|      12405|             1|      13|         0|2019-09-29 13:25:...|2019-10-01 01:04:...|                     128370|  MLM182686|    349601|2 Faros Osun® De ...|    126.0|     349601|\n",
            "|77309432392|             1|      13|         0|2019-10-24 09:23:...|2019-10-24 14:27:...|                      18264|  MLB273022|    726267|Tamanco Dijean Pr...|    57.99|    1953164|\n",
            "|68719489056|             1|      13|         0|2019-10-04 22:23:...|2019-10-09 19:09:...|                     420337|  MLB108704|   1477398|Vestido Camisa De...|     38.0|     344141|\n",
            "|68719477353|             1|      12|         0|2019-10-24 19:12:...|2019-10-26 12:04:...|                     147145|  MLB277999|   1806163|Jogo De Soquete E...|    199.0|    1806163|\n",
            "|17179903225|             1|      12|         0|2019-10-21 22:11:...|2019-10-23 22:56:...|                     175483|    MLM5072|    768255|Audifonos Huawei ...|    299.0|     768255|\n",
            "|      31655|             1|      12|         0|2019-10-18 22:09:...|2019-10-19 21:46:...|                      85013|  MLB108704|    414843|Vestido Longo Fes...|   189.89|     200756|\n",
            "|42949673209|             1|      12|         0|2019-10-09 13:22:...|2019-10-09 13:31:...|                        593|  MLB180269|      3634|Bicicleta Modelo ...|   399.99|     647429|\n",
            "|60129553554|             1|      12|         0|2019-10-18 16:12:...|2019-10-22 09:42:...|                     322168|    MLB7073|   1674903|Câmera Ip Wifi Ro...|   327.99|      68034|\n",
            "|68719489762|             1|      12|         0|2019-10-22 08:03:...|2019-10-22 08:46:...|                       2594|  MLB274752|    637544|Kit Sapato Social...|    69.49|    1063996|\n",
            "|77309422105|             1|      12|         0|2019-09-26 13:25:...|2019-10-01 12:50:...|                     429890|   MLB23332|     40833|Tênis Olympikus F...|    179.9|     570711|\n",
            "|68719490715|             1|      12|         0|2019-10-16 02:33:...|2019-10-16 02:52:...|                       1119|    MLB1652|   1384185|Notebook Acer Asp...|   2799.0|    1384185|\n",
            "|42949704717|             1|      12|         0|2019-09-28 19:12:...|2019-10-01 20:40:...|                     264482|  MLB189908|   1517450|Fita Rgb Prova D'...|     41.0|    1978976|\n",
            "|77309426155|             1|      12|         0|2019-10-02 10:41:...|2019-10-02 13:34:...|                      10363|  MLB120425|    928882|Difusor De Ar Umi...|    49.99|     928882|\n",
            "|17179909218|             1|      12|         0|2019-10-11 21:22:...|2019-10-13 12:45:...|                     141750|  MLB196796|   1694745|Kit Unha Acrigel ...|    180.0|    1694745|\n",
            "|17179899375|             1|      12|         0|2019-10-15 00:08:...|2019-10-15 01:24:...|                       4569|  MLM157915|   1680321|Kit De Sistema De...|   315.15|     525287|\n",
            "|25769827757|             1|      12|         0|2019-09-26 19:25:...|2019-09-26 20:18:...|                       3144|  MLM434394|   1982389|Toldo 2x2 Plegabl...|   1599.0|    1360444|\n",
            "|17179905150|             1|      12|         0|2019-10-12 08:49:...|2019-10-13 09:35:...|                      89137|    MLB2968|    476890|Boneca Tipo Bebe ...|     98.9|     476890|\n",
            "|25769812237|             1|      12|         0|2019-10-06 21:38:...|2019-10-08 10:12:...|                     131625|  MLB272158|   2062172|Lança Para Muro E...|     10.0|     897500|\n",
            "|      41836|             1|      12|         0|2019-10-11 18:36:...|2019-10-17 23:43:...|                     536829|   MLB38267|    477093|Ring Light Comple...|    158.0|     477093|\n",
            "|60129573170|             1|      12|         0|2019-10-21 20:59:...|2019-10-21 21:08:...|                        529|  MLB120307|   1886889|Máquina De Costur...|    249.9|    1886889|\n",
            "|60129573812|             1|      12|         0|2019-09-30 18:01:...|2019-10-04 13:40:...|                     329909|  MLB196208|   1888492|Fone Sem Fio Blue...|    79.99|    1950320|\n",
            "|34359766388|             1|      12|         0|2019-10-09 19:32:...|2019-10-10 12:13:...|                      60041|  MLB454689|   2005539|Colchão Magnético...|   3699.0|    1045386|\n",
            "|       2188|             1|      12|         0|2019-09-28 12:30:...|2019-10-01 18:32:...|                     280967|   MLB39510|    482189|Linha Multifilame...|   136.65|     507556|\n",
            "| 8589948981|             1|      12|         0|2019-09-28 19:24:...|2019-10-01 06:51:...|                     213998|  MLB430391|    468421|Roupas Femininas ...|     99.0|    1979875|\n",
            "|68719510929|             1|      12|         0|2019-10-09 09:14:...|2019-10-10 12:05:...|                      96645|  MLB186351|    162164|Kit 50- Toalhas D...|    219.9|     218740|\n",
            "|17179890115|             1|      12|         0|2019-09-29 12:36:...|2019-09-30 08:14:...|                      70668|  MLB190393|   1525563|Conjunto Country ...|   139.99|     171601|\n",
            "| 8589948181|             1|      12|         0|2019-10-18 13:14:...|2019-10-19 15:51:...|                      95810|  MLM107712|   1281762|Caja Metalica Par...|    398.0|    1162683|\n",
            "|60129549316|             1|      12|         0|2019-10-01 15:34:...|2019-10-01 20:50:...|                      18944|  MLB186804|   1892271|Kit Protetor Sofá...|    119.9|     557378|\n",
            "|       2987|             1|      12|         0|2019-10-09 22:07:...|2019-10-11 17:10:...|                     154964|    MLB1055|    379167|Xiaomi Mi 8 Lite ...|   1174.0|    1815479|\n",
            "| 8589949863|             1|      12|         0|2019-10-16 20:29:...|2019-10-21 19:50:...|                     429669|   MLB63526|   1517277|Chave Canivete Gm...|     55.8|     584746|\n",
            "|17179892165|             1|      12|         0|2019-09-27 19:44:...|2019-09-30 18:22:...|                     254276|  MLB278239|   1868641| Bravecto 4,5 A 1...|    139.9|     620054|\n",
            "|42949687457|             1|      11|         0|2019-10-03 15:38:...|2019-10-03 17:14:...|                       5734|    MLB1055|   1225041|Xiaomi Redmi Note...|  1566.99|    1225041|\n",
            "+-----------+--------------+--------+----------+--------------------+--------------------+---------------------------+-----------+----------+--------------------+---------+-----------+\n",
            "only showing top 100 rows\n",
            "\n"
          ],
          "name": "stdout"
        }
      ]
    },
    {
      "cell_type": "code",
      "metadata": {
        "id": "yCpAdb1QzfrE"
      },
      "source": [
        "test_query = spark.sql(\"\"\"\n",
        "\n",
        "SELECT \n",
        "  id,\n",
        "  COUNT(DISTINCT event_info) AS unq_event_info,\n",
        "  SUM(CASE WHEN event_type = 'view' then 1 else 0 end) AS sum_view,\n",
        "  SUM(CASE WHEN event_type = 'search' then 1 else 0 end) AS sum_search,\n",
        "  MIN(to_timestamp(event_timestamp, \"yyyy-MM-dd'T'HH:mm:ss.SSS'-0400'\")) AS first_timestamp,\n",
        "  MAX(to_timestamp(event_timestamp, \"yyyy-MM-dd'T'HH:mm:ss.SSS'-0400'\")) AS last_timestamp,\n",
        "  (UNIX_TIMESTAMP(MAX(to_timestamp(event_timestamp, \"yyyy-MM-dd'T'HH:mm:ss.SSS'-0400'\"))) - UNIX_TIMESTAMP(MIN(to_timestamp(event_timestamp, \"yyyy-MM-dd'T'HH:mm:ss.SSS'-0400'\")))) AS diff_max_min_time_stamp_sec\n",
        "FROM global_temp.test\n",
        "GROUP BY id\n",
        "SORT BY sum_view DESC\n",
        "\n",
        "\"\"\")"
      ],
      "execution_count": 67,
      "outputs": []
    },
    {
      "cell_type": "code",
      "metadata": {
        "id": "D1slP4DMzf8x",
        "outputId": "4cdde35e-026d-408a-fe2a-d0c3b68b4163",
        "colab": {
          "base_uri": "https://localhost:8080/"
        }
      },
      "source": [
        "test_query.show(10)"
      ],
      "execution_count": 68,
      "outputs": [
        {
          "output_type": "stream",
          "text": [
            "+-----------+--------------+--------+----------+--------------------+--------------------+---------------------------+\n",
            "|         id|unq_event_info|sum_view|sum_search|     first_timestamp|      last_timestamp|diff_max_min_time_stamp_sec|\n",
            "+-----------+--------------+--------+----------+--------------------+--------------------+---------------------------+\n",
            "|      15237|           140|     217|       241|2019-10-10 06:52:...|2019-10-16 19:24:...|                     563528|\n",
            "|25769806291|           122|     183|        84|2019-09-30 14:01:...|2019-10-06 21:43:...|                     546130|\n",
            "| 8589947960|            71|     124|        67|2019-10-24 20:14:...|2019-10-30 11:53:...|                     488349|\n",
            "| 8589966965|            64|     122|        50|2019-10-02 18:24:...|2019-10-05 13:17:...|                     240813|\n",
            "| 8589955165|            62|     115|       113|2019-09-28 06:15:...|2019-10-04 09:55:...|                     531645|\n",
            "|34359740494|            39|     107|        46|2019-09-29 11:58:...|2019-10-03 15:14:...|                     357371|\n",
            "|      34821|            62|     106|        85|2019-10-09 11:36:...|2019-10-14 10:33:...|                     428235|\n",
            "| 8589937874|            73|     101|        56|2019-10-03 21:59:...|2019-10-08 21:14:...|                     429254|\n",
            "| 8589966529|            51|      99|         4|2019-10-09 11:43:...|2019-10-14 08:35:...|                     420680|\n",
            "|      29841|           164|      96|       302|2019-10-06 16:03:...|2019-10-13 08:18:...|                     576915|\n",
            "+-----------+--------------+--------+----------+--------------------+--------------------+---------------------------+\n",
            "only showing top 10 rows\n",
            "\n"
          ],
          "name": "stdout"
        }
      ]
    }
  ]
}