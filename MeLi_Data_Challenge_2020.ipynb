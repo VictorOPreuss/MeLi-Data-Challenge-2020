{
  "nbformat": 4,
  "nbformat_minor": 0,
  "metadata": {
    "colab": {
      "name": "MeLi Data Challenge 2020",
      "provenance": [],
      "collapsed_sections": [],
      "authorship_tag": "ABX9TyMUJOQND8L0blAMg3IzovU/",
      "include_colab_link": true
    },
    "kernelspec": {
      "name": "python3",
      "display_name": "Python 3"
    }
  },
  "cells": [
    {
      "cell_type": "markdown",
      "metadata": {
        "id": "view-in-github",
        "colab_type": "text"
      },
      "source": [
        "<a href=\"https://colab.research.google.com/github/VictorOPreuss/MeLi-Data-Challenge-2020/blob/main/MeLi_Data_Challenge_2020.ipynb\" target=\"_parent\"><img src=\"https://colab.research.google.com/assets/colab-badge.svg\" alt=\"Open In Colab\"/></a>"
      ]
    },
    {
      "cell_type": "markdown",
      "metadata": {
        "id": "JGbvq4ZU2iP-"
      },
      "source": [
        "# **Bibliotecas**"
      ]
    },
    {
      "cell_type": "code",
      "metadata": {
        "id": "j-Jas8FMfiCP"
      },
      "source": [
        "!sudo apt-get update"
      ],
      "execution_count": null,
      "outputs": []
    },
    {
      "cell_type": "code",
      "metadata": {
        "id": "7T5kacIFnN80",
        "outputId": "e3b93181-fae5-49d8-e58c-be1fae8bee93",
        "colab": {
          "base_uri": "https://localhost:8080/"
        }
      },
      "source": [
        "\n",
        "# Install spark-related dependencies\n",
        "!apt-get install openjdk-8-jdk-headless -qq > /dev/null\n",
        "!wget -q http://apache.osuosl.org/spark/spark-3.0.1/spark-3.0.1-bin-hadoop2.7.tgz\n",
        "!tar xf spark-3.0.1-bin-hadoop2.7.tgz\n",
        "\n",
        "!pip install -q findspark\n",
        "!pip install pyspark\n",
        "# Set up required environment variables\n",
        "\n",
        "import os\n",
        "os.environ[\"JAVA_HOME\"] = \"/usr/lib/jvm/java-8-openjdk-amd64\"\n",
        "os.environ[\"SPARK_HOME\"] = \"/content/spark-3.0.1-bin-hadoop2.7\"\n"
      ],
      "execution_count": 2,
      "outputs": [
        {
          "output_type": "stream",
          "text": [
            "Collecting pyspark\n",
            "\u001b[?25l  Downloading https://files.pythonhosted.org/packages/f0/26/198fc8c0b98580f617cb03cb298c6056587b8f0447e20fa40c5b634ced77/pyspark-3.0.1.tar.gz (204.2MB)\n",
            "\u001b[K     |████████████████████████████████| 204.2MB 61kB/s \n",
            "\u001b[?25hCollecting py4j==0.10.9\n",
            "\u001b[?25l  Downloading https://files.pythonhosted.org/packages/9e/b6/6a4fb90cd235dc8e265a6a2067f2a2c99f0d91787f06aca4bcf7c23f3f80/py4j-0.10.9-py2.py3-none-any.whl (198kB)\n",
            "\u001b[K     |████████████████████████████████| 204kB 41.6MB/s \n",
            "\u001b[?25hBuilding wheels for collected packages: pyspark\n",
            "  Building wheel for pyspark (setup.py) ... \u001b[?25l\u001b[?25hdone\n",
            "  Created wheel for pyspark: filename=pyspark-3.0.1-py2.py3-none-any.whl size=204612243 sha256=141fa6b45951041cc87a3c503d7ce2c82faccfecb8d12fe42323139b999f6faf\n",
            "  Stored in directory: /root/.cache/pip/wheels/5e/bd/07/031766ca628adec8435bb40f0bd83bb676ce65ff4007f8e73f\n",
            "Successfully built pyspark\n",
            "Installing collected packages: py4j, pyspark\n",
            "Successfully installed py4j-0.10.9 pyspark-3.0.1\n"
          ],
          "name": "stdout"
        }
      ]
    },
    {
      "cell_type": "code",
      "metadata": {
        "id": "qj-7iAgMcO0s"
      },
      "source": [
        "# Tools we need to connect to the Spark server, load our data,\n",
        "# clean it and prepare it\n",
        "from pyspark import SparkContext\n",
        "from pyspark.sql import SparkSession\n",
        "\n",
        "from pyspark.sql.functions import *\n",
        "\n",
        "import pandas as pd\n",
        "import numpy as np\n",
        "\n",
        "import seaborn as sns\n",
        "import matplotlib.pyplot as plt\n",
        "\n",
        "import os\n",
        "import requests \n",
        "import zipfile\n",
        "from google.colab import files\n",
        "\n",
        "# settings\n",
        "import warnings\n",
        "warnings.filterwarnings(\"ignore\")\n",
        "%matplotlib inline\n",
        "\n",
        "pd.set_option(\"display.max_columns\", 200)\n",
        "pd.set_option(\"display.max_rows\", 200)"
      ],
      "execution_count": 3,
      "outputs": []
    },
    {
      "cell_type": "code",
      "metadata": {
        "id": "qktjSXQ2Ia9w"
      },
      "source": [
        "import findspark\n",
        "findspark.init(\"spark-3.0.1-bin-hadoop2.7\")# SPARK_HOME\n",
        "from pyspark.sql import SparkSession\n",
        "spark = SparkSession.builder.master(\"local[*]\").getOrCreate()"
      ],
      "execution_count": 4,
      "outputs": []
    },
    {
      "cell_type": "markdown",
      "metadata": {
        "id": "Tp9UpJV7o6c2"
      },
      "source": [
        "# **ETL**"
      ]
    },
    {
      "cell_type": "code",
      "metadata": {
        "id": "rB-jYb04MXPF",
        "outputId": "cd0b6dd8-67bd-45f3-becc-2d50fb8c235a",
        "colab": {
          "base_uri": "https://localhost:8080/"
        }
      },
      "source": [
        "\n",
        "! wget https://meli-data-challenge.s3.amazonaws.com/2020/train_dataset.jl.gz\n",
        "! wget https://meli-data-challenge.s3.amazonaws.com/2020/test_dataset.jl.gz\n",
        "! wget https://meli-data-challenge.s3.amazonaws.com/2020/item_data.jl.gz\n",
        "! wget https://meli-data-challenge.s3.amazonaws.com/2020/sample_submission.csv\n"
      ],
      "execution_count": 5,
      "outputs": [
        {
          "output_type": "stream",
          "text": [
            "--2020-11-14 20:09:00--  https://meli-data-challenge.s3.amazonaws.com/2020/train_dataset.jl.gz\n",
            "Resolving meli-data-challenge.s3.amazonaws.com (meli-data-challenge.s3.amazonaws.com)... 52.217.9.204\n",
            "Connecting to meli-data-challenge.s3.amazonaws.com (meli-data-challenge.s3.amazonaws.com)|52.217.9.204|:443... connected.\n",
            "HTTP request sent, awaiting response... 200 OK\n",
            "Length: 128022297 (122M) [application/x-gzip]\n",
            "Saving to: ‘train_dataset.jl.gz’\n",
            "\n",
            "train_dataset.jl.gz 100%[===================>] 122.09M  87.3MB/s    in 1.4s    \n",
            "\n",
            "2020-11-14 20:09:02 (87.3 MB/s) - ‘train_dataset.jl.gz’ saved [128022297/128022297]\n",
            "\n",
            "--2020-11-14 20:09:02--  https://meli-data-challenge.s3.amazonaws.com/2020/test_dataset.jl.gz\n",
            "Resolving meli-data-challenge.s3.amazonaws.com (meli-data-challenge.s3.amazonaws.com)... 52.217.9.204\n",
            "Connecting to meli-data-challenge.s3.amazonaws.com (meli-data-challenge.s3.amazonaws.com)|52.217.9.204|:443... connected.\n",
            "HTTP request sent, awaiting response... 200 OK\n",
            "Length: 54305870 (52M) [application/x-gzip]\n",
            "Saving to: ‘test_dataset.jl.gz’\n",
            "\n",
            "test_dataset.jl.gz  100%[===================>]  51.79M   101MB/s    in 0.5s    \n",
            "\n",
            "2020-11-14 20:09:03 (101 MB/s) - ‘test_dataset.jl.gz’ saved [54305870/54305870]\n",
            "\n",
            "--2020-11-14 20:09:03--  https://meli-data-challenge.s3.amazonaws.com/2020/item_data.jl.gz\n",
            "Resolving meli-data-challenge.s3.amazonaws.com (meli-data-challenge.s3.amazonaws.com)... 52.217.9.204\n",
            "Connecting to meli-data-challenge.s3.amazonaws.com (meli-data-challenge.s3.amazonaws.com)|52.217.9.204|:443... connected.\n",
            "HTTP request sent, awaiting response... 200 OK\n",
            "Length: 111301075 (106M) [application/x-gzip]\n",
            "Saving to: ‘item_data.jl.gz’\n",
            "\n",
            "item_data.jl.gz     100%[===================>] 106.14M  91.8MB/s    in 1.2s    \n",
            "\n",
            "2020-11-14 20:09:04 (91.8 MB/s) - ‘item_data.jl.gz’ saved [111301075/111301075]\n",
            "\n",
            "--2020-11-14 20:09:04--  https://meli-data-challenge.s3.amazonaws.com/2020/sample_submission.csv\n",
            "Resolving meli-data-challenge.s3.amazonaws.com (meli-data-challenge.s3.amazonaws.com)... 52.216.153.68\n",
            "Connecting to meli-data-challenge.s3.amazonaws.com (meli-data-challenge.s3.amazonaws.com)|52.216.153.68|:443... connected.\n",
            "HTTP request sent, awaiting response... 200 OK\n",
            "Length: 13229402 (13M) [text/csv]\n",
            "Saving to: ‘sample_submission.csv’\n",
            "\n",
            "sample_submission.c 100%[===================>]  12.62M  67.6MB/s    in 0.2s    \n",
            "\n",
            "2020-11-14 20:09:04 (67.6 MB/s) - ‘sample_submission.csv’ saved [13229402/13229402]\n",
            "\n"
          ],
          "name": "stdout"
        }
      ]
    },
    {
      "cell_type": "code",
      "metadata": {
        "id": "VNEiMUXTeT7u"
      },
      "source": [
        "\n",
        "! gunzip train_dataset.jl.gz\n",
        "! gunzip test_dataset.jl.gz\n",
        "! gunzip item_data.jl.gz\n"
      ],
      "execution_count": 6,
      "outputs": []
    },
    {
      "cell_type": "code",
      "metadata": {
        "id": "Rh4u8lzpRBGl"
      },
      "source": [
        "train_path = '/content/train_dataset.jl'\n",
        "test_path = '/content/test_dataset.jl'\n",
        "item_data_path = '/content/item_data.jl'"
      ],
      "execution_count": 7,
      "outputs": []
    },
    {
      "cell_type": "code",
      "metadata": {
        "id": "uII0waJ0HxBC"
      },
      "source": [
        "train = spark.read.json(train_path, multiLine= False)\n",
        "test = spark.read.json(test_path, multiLine= False)\n",
        "item_data = spark.read.json(item_data_path)\n",
        "sample_submission = pd.read_csv('sample_submission.csv')"
      ],
      "execution_count": 8,
      "outputs": []
    },
    {
      "cell_type": "code",
      "metadata": {
        "id": "9flQ7V9LJZby",
        "outputId": "1167af03-84fe-43af-8d1b-8334ec7e9414",
        "colab": {
          "base_uri": "https://localhost:8080/"
        }
      },
      "source": [
        "train.printSchema()"
      ],
      "execution_count": 9,
      "outputs": [
        {
          "output_type": "stream",
          "text": [
            "root\n",
            " |-- item_bought: long (nullable = true)\n",
            " |-- user_history: array (nullable = true)\n",
            " |    |-- element: struct (containsNull = true)\n",
            " |    |    |-- event_info: string (nullable = true)\n",
            " |    |    |-- event_timestamp: string (nullable = true)\n",
            " |    |    |-- event_type: string (nullable = true)\n",
            "\n"
          ],
          "name": "stdout"
        }
      ]
    },
    {
      "cell_type": "code",
      "metadata": {
        "id": "rxjXFM1FKArJ",
        "outputId": "d0d3b1f2-da26-4bc3-b8d6-1dd6eb4cb6ce",
        "colab": {
          "base_uri": "https://localhost:8080/"
        }
      },
      "source": [
        "test.printSchema()"
      ],
      "execution_count": 10,
      "outputs": [
        {
          "output_type": "stream",
          "text": [
            "root\n",
            " |-- user_history: array (nullable = true)\n",
            " |    |-- element: struct (containsNull = true)\n",
            " |    |    |-- event_info: string (nullable = true)\n",
            " |    |    |-- event_timestamp: string (nullable = true)\n",
            " |    |    |-- event_type: string (nullable = true)\n",
            "\n"
          ],
          "name": "stdout"
        }
      ]
    },
    {
      "cell_type": "code",
      "metadata": {
        "id": "fZNa7zmqKDbQ",
        "outputId": "b98cf0ac-0c03-4dac-9343-733907fc8c9c",
        "colab": {
          "base_uri": "https://localhost:8080/"
        }
      },
      "source": [
        "item_data.printSchema()"
      ],
      "execution_count": 11,
      "outputs": [
        {
          "output_type": "stream",
          "text": [
            "root\n",
            " |-- category_id: string (nullable = true)\n",
            " |-- condition: string (nullable = true)\n",
            " |-- domain_id: string (nullable = true)\n",
            " |-- item_id: long (nullable = true)\n",
            " |-- price: string (nullable = true)\n",
            " |-- product_id: string (nullable = true)\n",
            " |-- title: string (nullable = true)\n",
            "\n"
          ],
          "name": "stdout"
        }
      ]
    },
    {
      "cell_type": "code",
      "metadata": {
        "id": "-Vg0S8cnoosz"
      },
      "source": [
        "train_index = train.select(\"*\").withColumn(\"id\", monotonically_increasing_id())\n",
        "test_index = test.select(\"*\").withColumn(\"id\", monotonically_increasing_id())"
      ],
      "execution_count": 12,
      "outputs": []
    },
    {
      "cell_type": "code",
      "metadata": {
        "id": "A5V5WoVkZnE5"
      },
      "source": [
        "train_final = (train_index\n",
        "        .select(\"item_bought\", \"id\", \n",
        "explode(\"user_history\").alias(\"new_user_history\"))\n",
        "        .select(\"item_bought\", \"id\", \"new_user_history.*\"))"
      ],
      "execution_count": 13,
      "outputs": []
    },
    {
      "cell_type": "code",
      "metadata": {
        "id": "7Ar5V-dMay8h"
      },
      "source": [
        "test_final = (test_index\n",
        "        .select(\"id\", explode(\"user_history\").alias(\"new_user_history\"))\n",
        "        .select(\"id\", \"new_user_history.*\"))"
      ],
      "execution_count": 14,
      "outputs": []
    },
    {
      "cell_type": "markdown",
      "metadata": {
        "id": "GtANMAvrbXEh"
      },
      "source": [
        "# **EDA & Prep - Baseline**"
      ]
    },
    {
      "cell_type": "code",
      "metadata": {
        "id": "cMh_-V8Rboo3",
        "outputId": "a4861235-b47c-42b1-87d8-62dc1f51569f",
        "colab": {
          "base_uri": "https://localhost:8080/"
        }
      },
      "source": [
        "train_final.show(10)"
      ],
      "execution_count": 16,
      "outputs": [
        {
          "output_type": "stream",
          "text": [
            "+-----------+---+------------------+--------------------+----------+\n",
            "|item_bought| id|        event_info|     event_timestamp|event_type|\n",
            "+-----------+---+------------------+--------------------+----------+\n",
            "|    1748830|  0|           1786148|2019-10-19T11:25:...|      view|\n",
            "|    1748830|  0|           1786148|2019-10-19T11:25:...|      view|\n",
            "|    1748830|  0|RELOGIO SMARTWATCH|2019-10-19T11:26:...|    search|\n",
            "|    1748830|  0|           1615991|2019-10-19T11:27:...|      view|\n",
            "|    1748830|  0|           1615991|2019-10-19T11:28:...|      view|\n",
            "|    1748830|  0|           1615991|2019-10-19T11:28:...|      view|\n",
            "|    1748830|  0|           1615991|2019-10-19T11:30:...|      view|\n",
            "|    1748830|  0|           1615991|2019-10-19T21:51:...|      view|\n",
            "|    1748830|  0|           1615991|2019-10-19T21:52:...|      view|\n",
            "|    1748830|  0|           1615991|2019-10-19T21:52:...|      view|\n",
            "+-----------+---+------------------+--------------------+----------+\n",
            "only showing top 10 rows\n",
            "\n"
          ],
          "name": "stdout"
        }
      ]
    },
    {
      "cell_type": "code",
      "metadata": {
        "id": "CJr2GPUINVAK",
        "outputId": "c31965e8-a28a-4701-c213-467b6be3ae97",
        "colab": {
          "base_uri": "https://localhost:8080/"
        }
      },
      "source": [
        "test_final.show(10)"
      ],
      "execution_count": 17,
      "outputs": [
        {
          "output_type": "stream",
          "text": [
            "+---+----------+--------------------+----------+\n",
            "| id|event_info|     event_timestamp|event_type|\n",
            "+---+----------+--------------------+----------+\n",
            "|  0|   1572239|2019-09-26T18:31:...|      view|\n",
            "|  0|   1572239|2019-09-26T18:35:...|      view|\n",
            "|  0|   1572239|2019-09-26T18:37:...|      view|\n",
            "|  0|   1572239|2019-09-26T18:38:...|      view|\n",
            "|  0|   1572239|2019-09-26T18:40:...|      view|\n",
            "|  0|   1572239|2019-09-26T18:40:...|      view|\n",
            "|  0|   1572239|2019-09-26T18:41:...|      view|\n",
            "|  0|   1572239|2019-09-26T18:41:...|      view|\n",
            "|  0|   1572239|2019-09-26T19:03:...|      view|\n",
            "|  0|   1194894|2019-09-27T21:33:...|      view|\n",
            "+---+----------+--------------------+----------+\n",
            "only showing top 10 rows\n",
            "\n"
          ],
          "name": "stdout"
        }
      ]
    },
    {
      "cell_type": "code",
      "metadata": {
        "id": "5p8mlGawp6Jw",
        "outputId": "85d62d7e-a16d-476d-eca8-41d39d84c9c5",
        "colab": {
          "base_uri": "https://localhost:8080/"
        }
      },
      "source": [
        "item_data.show(10)"
      ],
      "execution_count": 18,
      "outputs": [
        {
          "output_type": "stream",
          "text": [
            "+-----------+---------+--------------------+-------+----------+----------+--------------------+\n",
            "|category_id|condition|           domain_id|item_id|     price|product_id|               title|\n",
            "+-----------+---------+--------------------+-------+----------+----------+--------------------+\n",
            "|  MLM170527|      new|MLM-INDIVIDUAL_HO...| 111260|1150000.00|      null|Casa Sola En Vent...|\n",
            "|  MLM151595|      new|     MLM-VIDEO_GAMES| 871377|   1392.83|  15270800|Resident Evil Ori...|\n",
            "|    MLM7697|      new|          MLM-SKIRTS| 490232|    350.00|      null|Falda De Imitació...|\n",
            "|    MLM9761|     used|  MLM-GRAPHICS_CARDS|1150706|   3200.00|      null|Powercolor Red De...|\n",
            "|    MLM1652|     used|       MLM-NOTEBOOKS| 934912|   1599.00|      null|Laptop Hp Nx6320 ...|\n",
            "|   MLM92472|      new|MLM-VEHICLE_ACCES...| 534737|    470.00|      null|Transmisor Fm Sin...|\n",
            "|  MLM167442|      new|MLM-CELLPHONE_COVERS| 369182|    589.00|      null|Funda Cartera Cas...|\n",
            "|    MLM1588|      new|MLM-WALL_AND_CEIL...| 690585|    184.00|      null|Lampara De Techo ...|\n",
            "|  MLM167544|      new|  MLM-NAPKIN_HOLDERS| 890593|    879.00|      null|Repisa Organizado...|\n",
            "|  MLM193197|      new|           MLM-FLATS|1786901|    729.00|      null|Trío, Balerina, C...|\n",
            "+-----------+---------+--------------------+-------+----------+----------+--------------------+\n",
            "only showing top 10 rows\n",
            "\n"
          ],
          "name": "stdout"
        }
      ]
    },
    {
      "cell_type": "code",
      "metadata": {
        "id": "Pw_zWHJGrzUK",
        "outputId": "49784f20-817b-4ca5-9e7e-57b09a294bc0",
        "colab": {
          "base_uri": "https://localhost:8080/"
        }
      },
      "source": [
        "train_final.dtypes"
      ],
      "execution_count": 19,
      "outputs": [
        {
          "output_type": "execute_result",
          "data": {
            "text/plain": [
              "[('item_bought', 'bigint'),\n",
              " ('id', 'bigint'),\n",
              " ('event_info', 'string'),\n",
              " ('event_timestamp', 'string'),\n",
              " ('event_type', 'string')]"
            ]
          },
          "metadata": {
            "tags": []
          },
          "execution_count": 19
        }
      ]
    },
    {
      "cell_type": "code",
      "metadata": {
        "id": "bWRE00YklGXT",
        "outputId": "e2e33a08-54f1-441d-94fb-bebee72d6007",
        "colab": {
          "base_uri": "https://localhost:8080/"
        }
      },
      "source": [
        "item_data.dtypes"
      ],
      "execution_count": 20,
      "outputs": [
        {
          "output_type": "execute_result",
          "data": {
            "text/plain": [
              "[('category_id', 'string'),\n",
              " ('condition', 'string'),\n",
              " ('domain_id', 'string'),\n",
              " ('item_id', 'bigint'),\n",
              " ('price', 'string'),\n",
              " ('product_id', 'string'),\n",
              " ('title', 'string')]"
            ]
          },
          "metadata": {
            "tags": []
          },
          "execution_count": 20
        }
      ]
    },
    {
      "cell_type": "code",
      "metadata": {
        "id": "0nzquOto6QgE"
      },
      "source": [
        "item_data.createGlobalTempView(\"metadata\")\n",
        "train_final.createGlobalTempView(\"train\")\n",
        "test_final.createGlobalTempView(\"test\")"
      ],
      "execution_count": 21,
      "outputs": []
    },
    {
      "cell_type": "code",
      "metadata": {
        "id": "sGFcWMv__oML"
      },
      "source": [
        "domain_query = spark.sql(\"\"\"\n",
        "\n",
        "SELECT \n",
        "  domain_id,\n",
        "  COUNT(*) AS count,\n",
        "  AVG(price) AS avg_price,\n",
        "  MAX(price) AS max_price,\n",
        "  MIN(price) AS min_price\n",
        "FROM global_temp.metadata\n",
        "GROUP BY domain_id\n",
        "SORT BY count DESC\n",
        "\n",
        "\"\"\").toPandas()"
      ],
      "execution_count": 22,
      "outputs": []
    },
    {
      "cell_type": "code",
      "metadata": {
        "id": "7e4aijNXAC6w",
        "outputId": "f161fee6-c307-4e9d-df1c-8fca20796ab5",
        "colab": {
          "base_uri": "https://localhost:8080/",
          "height": 221
        }
      },
      "source": [
        "print(domain_query.shape)\n",
        "domain_query.head()"
      ],
      "execution_count": 23,
      "outputs": [
        {
          "output_type": "stream",
          "text": [
            "(7894, 5)\n"
          ],
          "name": "stdout"
        },
        {
          "output_type": "execute_result",
          "data": {
            "text/html": [
              "<div>\n",
              "<style scoped>\n",
              "    .dataframe tbody tr th:only-of-type {\n",
              "        vertical-align: middle;\n",
              "    }\n",
              "\n",
              "    .dataframe tbody tr th {\n",
              "        vertical-align: top;\n",
              "    }\n",
              "\n",
              "    .dataframe thead th {\n",
              "        text-align: right;\n",
              "    }\n",
              "</style>\n",
              "<table border=\"1\" class=\"dataframe\">\n",
              "  <thead>\n",
              "    <tr style=\"text-align: right;\">\n",
              "      <th></th>\n",
              "      <th>domain_id</th>\n",
              "      <th>count</th>\n",
              "      <th>avg_price</th>\n",
              "      <th>max_price</th>\n",
              "      <th>min_price</th>\n",
              "    </tr>\n",
              "  </thead>\n",
              "  <tbody>\n",
              "    <tr>\n",
              "      <th>0</th>\n",
              "      <td>MLB-MICROPHONES</td>\n",
              "      <td>2448</td>\n",
              "      <td>1130.967663</td>\n",
              "      <td>999999.00</td>\n",
              "      <td>10.00</td>\n",
              "    </tr>\n",
              "    <tr>\n",
              "      <th>1</th>\n",
              "      <td>MLB-COMPLETE_SKATEBOARDS</td>\n",
              "      <td>339</td>\n",
              "      <td>427.985015</td>\n",
              "      <td>999.00</td>\n",
              "      <td>100.00</td>\n",
              "    </tr>\n",
              "    <tr>\n",
              "      <th>2</th>\n",
              "      <td>MLB-BICYCLE_AND_MOTORCYCLE_ALARMS</td>\n",
              "      <td>317</td>\n",
              "      <td>288.686530</td>\n",
              "      <td>99.90</td>\n",
              "      <td>100.21</td>\n",
              "    </tr>\n",
              "    <tr>\n",
              "      <th>3</th>\n",
              "      <td>MLB-AQUARIUM_FILTER_MATERIALS</td>\n",
              "      <td>305</td>\n",
              "      <td>120.349213</td>\n",
              "      <td>99.99</td>\n",
              "      <td>10.99</td>\n",
              "    </tr>\n",
              "    <tr>\n",
              "      <th>4</th>\n",
              "      <td>MLB-FLOOR_LAMPS</td>\n",
              "      <td>246</td>\n",
              "      <td>403.407073</td>\n",
              "      <td>99.98</td>\n",
              "      <td>100.00</td>\n",
              "    </tr>\n",
              "  </tbody>\n",
              "</table>\n",
              "</div>"
            ],
            "text/plain": [
              "                           domain_id  count    avg_price  max_price min_price\n",
              "0                    MLB-MICROPHONES   2448  1130.967663  999999.00     10.00\n",
              "1           MLB-COMPLETE_SKATEBOARDS    339   427.985015     999.00    100.00\n",
              "2  MLB-BICYCLE_AND_MOTORCYCLE_ALARMS    317   288.686530      99.90    100.21\n",
              "3      MLB-AQUARIUM_FILTER_MATERIALS    305   120.349213      99.99     10.99\n",
              "4                    MLB-FLOOR_LAMPS    246   403.407073      99.98    100.00"
            ]
          },
          "metadata": {
            "tags": []
          },
          "execution_count": 23
        }
      ]
    },
    {
      "cell_type": "code",
      "metadata": {
        "id": "LX47CwtyNqNZ"
      },
      "source": [
        "category_query = spark.sql(\"\"\"\n",
        "\n",
        "SELECT \n",
        "  category_id,\n",
        "  COUNT(*) AS count,\n",
        "  AVG(price) AS avg_price,\n",
        "  MAX(price) AS max_price,\n",
        "  MIN(price) AS min_price\n",
        "FROM global_temp.metadata\n",
        "GROUP BY category_id\n",
        "SORT BY count DESC\n",
        "\n",
        "\"\"\").toPandas()"
      ],
      "execution_count": 24,
      "outputs": []
    },
    {
      "cell_type": "code",
      "metadata": {
        "id": "xFwnGeNHNqCc",
        "outputId": "8960cd2a-ae44-4201-c2ba-684554dbce48",
        "colab": {
          "base_uri": "https://localhost:8080/",
          "height": 221
        }
      },
      "source": [
        "print(category_query.shape)\n",
        "category_query.head()"
      ],
      "execution_count": 25,
      "outputs": [
        {
          "output_type": "stream",
          "text": [
            "(11493, 5)\n"
          ],
          "name": "stdout"
        },
        {
          "output_type": "execute_result",
          "data": {
            "text/html": [
              "<div>\n",
              "<style scoped>\n",
              "    .dataframe tbody tr th:only-of-type {\n",
              "        vertical-align: middle;\n",
              "    }\n",
              "\n",
              "    .dataframe tbody tr th {\n",
              "        vertical-align: top;\n",
              "    }\n",
              "\n",
              "    .dataframe thead th {\n",
              "        text-align: right;\n",
              "    }\n",
              "</style>\n",
              "<table border=\"1\" class=\"dataframe\">\n",
              "  <thead>\n",
              "    <tr style=\"text-align: right;\">\n",
              "      <th></th>\n",
              "      <th>category_id</th>\n",
              "      <th>count</th>\n",
              "      <th>avg_price</th>\n",
              "      <th>max_price</th>\n",
              "      <th>min_price</th>\n",
              "    </tr>\n",
              "  </thead>\n",
              "  <tbody>\n",
              "    <tr>\n",
              "      <th>0</th>\n",
              "      <td>MLB188065</td>\n",
              "      <td>10130</td>\n",
              "      <td>153.410706</td>\n",
              "      <td>9999.90</td>\n",
              "      <td>10.00</td>\n",
              "    </tr>\n",
              "    <tr>\n",
              "      <th>1</th>\n",
              "      <td>MLB189195</td>\n",
              "      <td>7431</td>\n",
              "      <td>332.518408</td>\n",
              "      <td>9999.00</td>\n",
              "      <td>10.00</td>\n",
              "    </tr>\n",
              "    <tr>\n",
              "      <th>2</th>\n",
              "      <td>MLB73055</td>\n",
              "      <td>1113</td>\n",
              "      <td>350.353522</td>\n",
              "      <td>99.99</td>\n",
              "      <td>100.00</td>\n",
              "    </tr>\n",
              "    <tr>\n",
              "      <th>3</th>\n",
              "      <td>MLB204802</td>\n",
              "      <td>1020</td>\n",
              "      <td>2047.404088</td>\n",
              "      <td>999999.00</td>\n",
              "      <td>10.00</td>\n",
              "    </tr>\n",
              "    <tr>\n",
              "      <th>4</th>\n",
              "      <td>MLB18395</td>\n",
              "      <td>888</td>\n",
              "      <td>107.421160</td>\n",
              "      <td>999.00</td>\n",
              "      <td>100.00</td>\n",
              "    </tr>\n",
              "  </tbody>\n",
              "</table>\n",
              "</div>"
            ],
            "text/plain": [
              "  category_id  count    avg_price  max_price min_price\n",
              "0   MLB188065  10130   153.410706    9999.90     10.00\n",
              "1   MLB189195   7431   332.518408    9999.00     10.00\n",
              "2    MLB73055   1113   350.353522      99.99    100.00\n",
              "3   MLB204802   1020  2047.404088  999999.00     10.00\n",
              "4    MLB18395    888   107.421160     999.00    100.00"
            ]
          },
          "metadata": {
            "tags": []
          },
          "execution_count": 25
        }
      ]
    },
    {
      "cell_type": "code",
      "metadata": {
        "id": "6ipeCaLYQ2xq"
      },
      "source": [
        "datetime_query = spark.sql(\"\"\"\n",
        "\n",
        "SELECT\n",
        "  DATE_FORMAT(to_timestamp(event_timestamp, \"yyyy-MM-dd'T'HH:mm:ss.SSS'-0400'\"), \"d M y\") AS date,\n",
        "  SUM(CASE WHEN event_type = 'view' then 1 else 0 end) AS sum_view,\n",
        "  SUM(CASE WHEN event_type = 'search' then 1 else 0 end) AS sum_search\n",
        "FROM global_temp.train\n",
        "GROUP BY date\n",
        "SORT BY sum_view DESC\n",
        "\n",
        "\"\"\").toPandas()"
      ],
      "execution_count": 26,
      "outputs": []
    },
    {
      "cell_type": "code",
      "metadata": {
        "id": "L_eDI5PvQ2p6",
        "outputId": "a074bd4e-f886-436d-a321-1f4823148c42",
        "colab": {
          "base_uri": "https://localhost:8080/",
          "height": 221
        }
      },
      "source": [
        "print(datetime_query.shape)\n",
        "datetime_query.head()"
      ],
      "execution_count": 27,
      "outputs": [
        {
          "output_type": "stream",
          "text": [
            "(38, 3)\n"
          ],
          "name": "stdout"
        },
        {
          "output_type": "execute_result",
          "data": {
            "text/html": [
              "<div>\n",
              "<style scoped>\n",
              "    .dataframe tbody tr th:only-of-type {\n",
              "        vertical-align: middle;\n",
              "    }\n",
              "\n",
              "    .dataframe tbody tr th {\n",
              "        vertical-align: top;\n",
              "    }\n",
              "\n",
              "    .dataframe thead th {\n",
              "        text-align: right;\n",
              "    }\n",
              "</style>\n",
              "<table border=\"1\" class=\"dataframe\">\n",
              "  <thead>\n",
              "    <tr style=\"text-align: right;\">\n",
              "      <th></th>\n",
              "      <th>date</th>\n",
              "      <th>sum_view</th>\n",
              "      <th>sum_search</th>\n",
              "    </tr>\n",
              "  </thead>\n",
              "  <tbody>\n",
              "    <tr>\n",
              "      <th>0</th>\n",
              "      <td>28 10 2019</td>\n",
              "      <td>71274</td>\n",
              "      <td>66958</td>\n",
              "    </tr>\n",
              "    <tr>\n",
              "      <th>1</th>\n",
              "      <td>27 9 2019</td>\n",
              "      <td>123211</td>\n",
              "      <td>127407</td>\n",
              "    </tr>\n",
              "    <tr>\n",
              "      <th>2</th>\n",
              "      <td>29 9 2019</td>\n",
              "      <td>207237</td>\n",
              "      <td>212330</td>\n",
              "    </tr>\n",
              "    <tr>\n",
              "      <th>3</th>\n",
              "      <td>31 10 2019</td>\n",
              "      <td>4123</td>\n",
              "      <td>3982</td>\n",
              "    </tr>\n",
              "    <tr>\n",
              "      <th>4</th>\n",
              "      <td>9 10 2019</td>\n",
              "      <td>209684</td>\n",
              "      <td>217686</td>\n",
              "    </tr>\n",
              "  </tbody>\n",
              "</table>\n",
              "</div>"
            ],
            "text/plain": [
              "         date  sum_view  sum_search\n",
              "0  28 10 2019     71274       66958\n",
              "1   27 9 2019    123211      127407\n",
              "2   29 9 2019    207237      212330\n",
              "3  31 10 2019      4123        3982\n",
              "4   9 10 2019    209684      217686"
            ]
          },
          "metadata": {
            "tags": []
          },
          "execution_count": 27
        }
      ]
    },
    {
      "cell_type": "code",
      "metadata": {
        "id": "Wo4usDuYvkMY"
      },
      "source": [
        "train_query = spark.sql(\"\"\"\n",
        "\n",
        "SELECT \n",
        "  t.id,\n",
        "  COUNT(DISTINCT t.event_info) AS unq_event_info,\n",
        "  SUM(CASE WHEN t.event_type = 'view' then 1 else 0 end) AS sum_view,\n",
        "  SUM(CASE WHEN t.event_type = 'search' then 1 else 0 end) AS sum_search,\n",
        "  MIN(to_timestamp(t.event_timestamp, \"yyyy-MM-dd'T'HH:mm:ss.SSS'-0400'\")) AS first_timestamp,\n",
        "  MAX(to_timestamp(t.event_timestamp, \"yyyy-MM-dd'T'HH:mm:ss.SSS'-0400'\")) AS last_timestamp,\n",
        "  (UNIX_TIMESTAMP(MAX(to_timestamp(t.event_timestamp, \"yyyy-MM-dd'T'HH:mm:ss.SSS'-0400'\"))) - UNIX_TIMESTAMP(MIN(to_timestamp(t.event_timestamp, \"yyyy-MM-dd'T'HH:mm:ss.SSS'-0400'\")))) AS diff_max_min_time_stamp_sec,\n",
        "  m.category_id,\n",
        "  t.event_info,\n",
        "  m.title,\n",
        "  ROUND(AVG(m.price),2) AS avg_price,\n",
        "  t.item_bought  \n",
        "FROM global_temp.train t\n",
        "LEFT JOIN global_temp.metadata m ON m.item_id = t.event_info\n",
        "GROUP BY t.id, t.event_info, m.title, m.category_id, t.item_bought\n",
        "SORT BY t.id ASC\n",
        "\n",
        "\"\"\")"
      ],
      "execution_count": 28,
      "outputs": []
    },
    {
      "cell_type": "code",
      "metadata": {
        "id": "V5kjUpvJv1fY",
        "outputId": "5686cb32-a297-401c-a8e4-09900c2ff2e9",
        "colab": {
          "base_uri": "https://localhost:8080/"
        }
      },
      "source": [
        "train_query.show(5)"
      ],
      "execution_count": 29,
      "outputs": [
        {
          "output_type": "stream",
          "text": [
            "+---+--------------+--------+----------+--------------------+--------------------+---------------------------+-----------+-------------+--------------------+---------+-----------+\n",
            "| id|unq_event_info|sum_view|sum_search|     first_timestamp|      last_timestamp|diff_max_min_time_stamp_sec|category_id|   event_info|               title|avg_price|item_bought|\n",
            "+---+--------------+--------+----------+--------------------+--------------------+---------------------------+-----------+-------------+--------------------+---------+-----------+\n",
            "| 10|             1|       0|         4|2019-10-26 11:59:...|2019-10-26 11:59:...|                         50|       null|HARMAN KARDON|                null|     null|     392483|\n",
            "| 11|             1|       1|         0|2019-10-05 08:42:...|2019-10-05 08:42:...|                          0|  MLB264139|       151327|Power Bank Pineng...|     49.9|     107670|\n",
            "| 29|             1|       1|         0|2019-10-16 21:58:...|2019-10-16 21:58:...|                          0|    MLB2233|      1210239|Pneu 175/65 R14 F...|    289.0|    1335130|\n",
            "| 94|             1|       1|         0|2019-10-03 15:21:...|2019-10-03 15:21:...|                          0|  MLB278154|       920801|Aparelho Ecus Par...|   4500.0|     926212|\n",
            "| 97|             1|       2|         0| 2019-10-21 21:01:10|2019-10-21 21:07:...|                        385|  MLM191787|       667018|Kit Costurero Por...|    199.0|    1981518|\n",
            "+---+--------------+--------+----------+--------------------+--------------------+---------------------------+-----------+-------------+--------------------+---------+-----------+\n",
            "only showing top 5 rows\n",
            "\n"
          ],
          "name": "stdout"
        }
      ]
    },
    {
      "cell_type": "code",
      "metadata": {
        "id": "yCpAdb1QzfrE"
      },
      "source": [
        "test_query = spark.sql(\"\"\"\n",
        "\n",
        "SELECT \n",
        "  id,\n",
        "  COUNT(DISTINCT event_info) AS unq_event_info,\n",
        "  SUM(CASE WHEN event_type = 'view' then 1 else 0 end) AS sum_view,\n",
        "  SUM(CASE WHEN event_type = 'search' then 1 else 0 end) AS sum_search,\n",
        "  MIN(to_timestamp(event_timestamp, \"yyyy-MM-dd'T'HH:mm:ss.SSS'-0400'\")) AS first_timestamp,\n",
        "  MAX(to_timestamp(event_timestamp, \"yyyy-MM-dd'T'HH:mm:ss.SSS'-0400'\")) AS last_timestamp,\n",
        "  (UNIX_TIMESTAMP(MAX(to_timestamp(event_timestamp, \"yyyy-MM-dd'T'HH:mm:ss.SSS'-0400'\"))) - UNIX_TIMESTAMP(MIN(to_timestamp(event_timestamp, \"yyyy-MM-dd'T'HH:mm:ss.SSS'-0400'\")))) AS diff_max_min_time_stamp_sec\n",
        "FROM global_temp.test\n",
        "GROUP BY id\n",
        "SORT BY sum_view DESC\n",
        "\n",
        "\"\"\")"
      ],
      "execution_count": 30,
      "outputs": []
    },
    {
      "cell_type": "code",
      "metadata": {
        "id": "D1slP4DMzf8x",
        "outputId": "e7ca69d7-e33f-4964-dbd1-bbc181f4c86e",
        "colab": {
          "base_uri": "https://localhost:8080/"
        }
      },
      "source": [
        "test_query.show(5)"
      ],
      "execution_count": 31,
      "outputs": [
        {
          "output_type": "stream",
          "text": [
            "+-----------+--------------+--------+----------+--------------------+--------------------+---------------------------+\n",
            "|         id|unq_event_info|sum_view|sum_search|     first_timestamp|      last_timestamp|diff_max_min_time_stamp_sec|\n",
            "+-----------+--------------+--------+----------+--------------------+--------------------+---------------------------+\n",
            "|      15237|           140|     217|       241|2019-10-10 06:52:...|2019-10-16 19:24:...|                     563528|\n",
            "|25769806291|           122|     183|        84|2019-09-30 14:01:...|2019-10-06 21:43:...|                     546130|\n",
            "| 8589947960|            71|     124|        67|2019-10-24 20:14:...|2019-10-30 11:53:...|                     488349|\n",
            "| 8589966965|            64|     122|        50|2019-10-02 18:24:...|2019-10-05 13:17:...|                     240813|\n",
            "| 8589955165|            62|     115|       113|2019-09-28 06:15:...|2019-10-04 09:55:...|                     531645|\n",
            "+-----------+--------------+--------+----------+--------------------+--------------------+---------------------------+\n",
            "only showing top 5 rows\n",
            "\n"
          ],
          "name": "stdout"
        }
      ]
    }
  ]
}